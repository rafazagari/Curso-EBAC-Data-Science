{
 "cells": [
  {
   "cell_type": "markdown",
   "metadata": {},
   "source": [
    "# Pandas\n",
    "\n",
    "- Leia os enunciados com atenção\n",
    "- Saiba que pode haver mais de uma resposta correta\n",
    "- Insira novas células de código sempre que achar necessário\n",
    "- Em caso de dúvidas, procure os tutores\n",
    "- Divirta-se :)\n",
    "\n",
    "#### 1)  crie uma série do pandas a partir de uma lista com os dados abaixo:\n",
    "\n",
    "Em um estudo sobre alteração na tempreatura global, A NASA disponibiliza dados de diferenças de de temperatura média da superfície terrestre relativos às médias de temperatura entre 1951 e 1980. Os dados originais podem ser vistos no site da NASA/GISS, e estão dispostos a cada década na tabela abaixo.\n",
    "\n",
    "|ano|anomalia termica|\n",
    "|:-:|:----:|\n",
    "| 1900 | -0.08 |\n",
    "| 1920 | -0.27 |\n",
    "| 1940 | 0.12 |\n",
    "| 1960 | -0.03 |\n",
    "| 1980 | 0.26 |\n",
    "| 2000 | 0.40 |\n",
    "| 2020 | 1.02 |\n",
    "\n",
    "Crie uma séries do Pandas a partir de uma lista com esses dados."
   ]
  },
  {
   "cell_type": "code",
   "execution_count": 38,
   "metadata": {},
   "outputs": [
    {
     "name": "stdout",
     "output_type": "stream",
     "text": [
      "0   -0.08\n",
      "1   -0.27\n",
      "2    0.12\n",
      "3   -0.03\n",
      "4    0.26\n",
      "5    0.40\n",
      "6    1.02\n",
      "dtype: float64\n"
     ]
    }
   ],
   "source": [
    "import pandas as pd\n",
    "import numpy as np\n",
    "\n",
    "# Seu código aqui\n",
    "\n",
    "Serie_temperatura = pd.Series([-0.08, -0.27, 0.12, -0.03, 0.26, 0.4, 1.02])\n",
    "\n",
    "print(Serie_temperatura)\n"
   ]
  },
  {
   "cell_type": "markdown",
   "metadata": {},
   "source": [
    "#### 2) Coloque os anos nos índices conforme a tabela."
   ]
  },
  {
   "cell_type": "code",
   "execution_count": 39,
   "metadata": {},
   "outputs": [
    {
     "name": "stdout",
     "output_type": "stream",
     "text": [
      "1900   -0.08\n",
      "1920   -0.27\n",
      "1940    0.12\n",
      "1960   -0.03\n",
      "1980    0.26\n",
      "2000    0.40\n",
      "2020    1.02\n",
      "dtype: float64\n"
     ]
    }
   ],
   "source": [
    "\n",
    "# seu código aqui\n",
    "\n",
    "Serie_com_indice = pd.Series([-0.08, -0.27, 0.12, -0.03, 0.26, 0.4, 1.02], index = [1900, 1920, 1940, 1960, 1980, 2000, 2020])\n",
    "print (Serie_com_indice)"
   ]
  },
  {
   "cell_type": "markdown",
   "metadata": {},
   "source": [
    "#### 3) A partir do dicionário abaixo, crie uma séries do Pandas:"
   ]
  },
  {
   "cell_type": "code",
   "execution_count": 40,
   "metadata": {},
   "outputs": [
    {
     "name": "stdout",
     "output_type": "stream",
     "text": [
      "1900   -0.08\n",
      "1920   -0.27\n",
      "1940    0.12\n",
      "1960   -0.03\n",
      "1980    0.26\n",
      "2000    0.40\n",
      "2020    1.02\n",
      "dtype: float64\n"
     ]
    }
   ],
   "source": [
    "dic_temperaturas = {1900: -.08, 1920: -.27, 1940: .12, 1960: -.03, 1980: .26, 2000: .40, 2020: 1.02}\n",
    "\n",
    "# seu código aqui\n",
    "\n",
    "Temperatura = pd.Series (dic_temperaturas)\n",
    "\n",
    "print (Temperatura)"
   ]
  },
  {
   "cell_type": "markdown",
   "metadata": {},
   "source": [
    "#### 4) Transforme o ndarray abaixo em um dataframe. \n",
    "O numpy é capaz de gerar arrays n-dimensionais com números pseudo-aleatórios de acordo com uma variedade de distribuições, como no exemplo abaixo. Transforme esse nd-array em um DataFrame."
   ]
  },
  {
   "cell_type": "code",
   "execution_count": 41,
   "metadata": {},
   "outputs": [
    {
     "name": "stdout",
     "output_type": "stream",
     "text": [
      "             0           1           2\n",
      "0   108.247291   91.824157  107.904145\n",
      "1    98.542238  103.409210  107.115792\n",
      "2   108.809315   96.604130   96.243812\n",
      "3    82.978416   87.154321   87.875843\n",
      "4    85.305405   99.003556  100.166798\n",
      "5   115.198612  103.788104  103.140433\n",
      "6   120.106297  100.385170   94.556157\n",
      "7   105.287252  109.460695   75.642388\n",
      "8   127.132014  106.261978   84.433298\n",
      "9   123.987729  107.712351   98.962897\n",
      "10   79.804262   95.846226  101.384427\n",
      "11   97.187437  104.258765   91.132639\n",
      "12   80.916603   89.129080  104.844267\n",
      "13  110.145929  105.943984  110.652429\n",
      "14   94.996758   89.266391   96.739547\n",
      "15  105.642096   91.903390  107.947696\n",
      "16   93.522142   90.351539  107.250009\n",
      "17  112.976041   92.164950  105.731584\n",
      "18   94.917284  104.112470   88.700780\n",
      "19   91.232989   84.114141   94.120391\n"
     ]
    }
   ],
   "source": [
    "arr = np.random.normal(100, 10, (20,3))\n",
    "\n",
    "# seu código aqui\n",
    "\n",
    "data_frame = pd.DataFrame(arr)\n",
    "\n",
    "print (data_frame)"
   ]
  },
  {
   "cell_type": "markdown",
   "metadata": {},
   "source": [
    "#### 5) Nomeie os índices das linhas com inteiros de 1 a 20, e as colunas com os nomes \"x1\", \"x2\", e \"x3\" respectivamente."
   ]
  },
  {
   "cell_type": "code",
   "execution_count": 51,
   "metadata": {},
   "outputs": [
    {
     "name": "stdout",
     "output_type": "stream",
     "text": [
      "              0           1           2\n",
      "x1   108.247291   91.824157  107.904145\n",
      "x2    98.542238  103.409210  107.115792\n",
      "x3   108.809315   96.604130   96.243812\n",
      "x4    82.978416   87.154321   87.875843\n",
      "x5    85.305405   99.003556  100.166798\n",
      "x6   115.198612  103.788104  103.140433\n",
      "x7   120.106297  100.385170   94.556157\n",
      "x8   105.287252  109.460695   75.642388\n",
      "x9   127.132014  106.261978   84.433298\n",
      "x10  123.987729  107.712351   98.962897\n",
      "x11   79.804262   95.846226  101.384427\n",
      "x12   97.187437  104.258765   91.132639\n",
      "x13   80.916603   89.129080  104.844267\n",
      "x14  110.145929  105.943984  110.652429\n",
      "x15   94.996758   89.266391   96.739547\n",
      "x16  105.642096   91.903390  107.947696\n",
      "x17   93.522142   90.351539  107.250009\n",
      "x18  112.976041   92.164950  105.731584\n",
      "x19   94.917284  104.112470   88.700780\n",
      "x20   91.232989   84.114141   94.120391\n"
     ]
    }
   ],
   "source": [
    "#seu código aqui\n",
    "\n",
    "\n",
    "index = ['x1', 'x2', 'x3', 'x4', 'x5', 'x6', 'x7', 'x8', 'x9', 'x10', 'x11', 'x12', 'x13', 'x14', 'x15', 'x16', 'x17', 'x18', 'x19', 'x20']\n",
    "data_frame = pd.DataFrame(data = arr, index = index)\n",
    "\n",
    "print (data_frame)"
   ]
  },
  {
   "cell_type": "markdown",
   "metadata": {},
   "source": [
    "#### 6) No DataFrame do exercício 5, crie uma nova coluna como sendo a média das três colunas, e dê a ela o nome de \"media\" (não recomendo colocar acentos em nomes de variáveis)."
   ]
  },
  {
   "cell_type": "code",
   "execution_count": 54,
   "metadata": {},
   "outputs": [
    {
     "name": "stdout",
     "output_type": "stream",
     "text": [
      "              0           1           2       Media\n",
      "x1   108.247291   91.824157  107.904145  102.658531\n",
      "x2    98.542238  103.409210  107.115792  103.022413\n",
      "x3   108.809315   96.604130   96.243812  100.552419\n",
      "x4    82.978416   87.154321   87.875843   86.002860\n",
      "x5    85.305405   99.003556  100.166798   94.825253\n",
      "x6   115.198612  103.788104  103.140433  107.375716\n",
      "x7   120.106297  100.385170   94.556157  105.015875\n",
      "x8   105.287252  109.460695   75.642388   96.796778\n",
      "x9   127.132014  106.261978   84.433298  105.942430\n",
      "x10  123.987729  107.712351   98.962897  110.220992\n",
      "x11   79.804262   95.846226  101.384427   92.344971\n",
      "x12   97.187437  104.258765   91.132639   97.526280\n",
      "x13   80.916603   89.129080  104.844267   91.629983\n",
      "x14  110.145929  105.943984  110.652429  108.914114\n",
      "x15   94.996758   89.266391   96.739547   93.667565\n",
      "x16  105.642096   91.903390  107.947696  101.831061\n",
      "x17   93.522142   90.351539  107.250009   97.041230\n",
      "x18  112.976041   92.164950  105.731584  103.624192\n",
      "x19   94.917284  104.112470   88.700780   95.910178\n",
      "x20   91.232989   84.114141   94.120391   89.822507\n"
     ]
    }
   ],
   "source": [
    "# seu código aqui\n",
    "\n",
    "data_frame ['Media'] = (data_frame [0] + data_frame [1] + data_frame[2]) / 3\n",
    "\n",
    "print (data_frame)"
   ]
  },
  {
   "cell_type": "markdown",
   "metadata": {},
   "source": [
    "#### 7) No DataFrame do exercício 6, crie uma nova coluna chamada \"log_med\", contendo o logaritmo natural da média calculada no exercício 6 <br>"
   ]
  },
  {
   "cell_type": "code",
   "execution_count": 57,
   "metadata": {},
   "outputs": [
    {
     "name": "stdout",
     "output_type": "stream",
     "text": [
      "              0           1           2       Media   Log_Med\n",
      "x1   108.247291   91.824157  107.904145  102.658531  4.631408\n",
      "x2    98.542238  103.409210  107.115792  103.022413  4.634947\n",
      "x3   108.809315   96.604130   96.243812  100.552419  4.610679\n",
      "x4    82.978416   87.154321   87.875843   86.002860  4.454381\n",
      "x5    85.305405   99.003556  100.166798   94.825253  4.552036\n",
      "x6   115.198612  103.788104  103.140433  107.375716  4.676334\n",
      "x7   120.106297  100.385170   94.556157  105.015875  4.654112\n",
      "x8   105.287252  109.460695   75.642388   96.796778  4.572614\n",
      "x9   127.132014  106.261978   84.433298  105.942430  4.662896\n",
      "x10  123.987729  107.712351   98.962897  110.220992  4.702487\n",
      "x11   79.804262   95.846226  101.384427   92.344971  4.525531\n",
      "x12   97.187437  104.258765   91.132639   97.526280  4.580122\n",
      "x13   80.916603   89.129080  104.844267   91.629983  4.517759\n",
      "x14  110.145929  105.943984  110.652429  108.914114  4.690560\n",
      "x15   94.996758   89.266391   96.739547   93.667565  4.539752\n",
      "x16  105.642096   91.903390  107.947696  101.831061  4.623315\n",
      "x17   93.522142   90.351539  107.250009   97.041230  4.575136\n",
      "x18  112.976041   92.164950  105.731584  103.624192  4.640771\n",
      "x19   94.917284  104.112470   88.700780   95.910178  4.563412\n",
      "x20   91.232989   84.114141   94.120391   89.822507  4.497836\n"
     ]
    }
   ],
   "source": [
    "# seu código aqui\n",
    "\n",
    "data_frame ['Log_Med'] =  np.log(data_frame['Media'])\n",
    "\n",
    "print (data_frame)"
   ]
  }
 ],
 "metadata": {
  "kernelspec": {
   "display_name": "Python 3 (ipykernel)",
   "language": "python",
   "name": "python3"
  },
  "language_info": {
   "codemirror_mode": {
    "name": "ipython",
    "version": 3
   },
   "file_extension": ".py",
   "mimetype": "text/x-python",
   "name": "python",
   "nbconvert_exporter": "python",
   "pygments_lexer": "ipython3",
   "version": "3.10.9"
  }
 },
 "nbformat": 4,
 "nbformat_minor": 4
}
