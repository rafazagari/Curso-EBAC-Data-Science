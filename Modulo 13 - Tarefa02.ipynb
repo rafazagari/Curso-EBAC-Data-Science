{
  "cells": [
    {
      "cell_type": "markdown",
      "metadata": {
        "id": "EDrp9kmCAx9P"
      },
      "source": [
        "# EBAC - Regressão II - regressão múltipla\n",
        "\n",
        "## Tarefa I"
      ]
    },
    {
      "cell_type": "markdown",
      "metadata": {
        "id": "UH5EE-u7Ax9T"
      },
      "source": [
        "#### Previsão de renda II\n",
        "\n",
        "Vamos continuar trabalhando com a base 'previsao_de_renda.csv', que é a base do seu próximo projeto. Vamos usar os recursos que vimos até aqui nesta base.\n",
        "\n",
        "|variavel|descrição|\n",
        "|-|-|\n",
        "|data_ref                | Data de referência de coleta das variáveis |\n",
        "|index                   | Código de identificação do cliente|\n",
        "|sexo                    | Sexo do cliente|\n",
        "|posse_de_veiculo        | Indica se o cliente possui veículo|\n",
        "|posse_de_imovel         | Indica se o cliente possui imóvel|\n",
        "|qtd_filhos              | Quantidade de filhos do cliente|\n",
        "|tipo_renda              | Tipo de renda do cliente|\n",
        "|educacao                | Grau de instrução do cliente|\n",
        "|estado_civil            | Estado civil do cliente|\n",
        "|tipo_residencia         | Tipo de residência do cliente (própria, alugada etc)|\n",
        "|idade                   | Idade do cliente|\n",
        "|tempo_emprego           | Tempo no emprego atual|\n",
        "|qt_pessoas_residencia   | Quantidade de pessoas que moram na residência|\n",
        "|renda                   | Renda em reais|"
      ]
    },
    {
      "cell_type": "code",
      "execution_count": null,
      "metadata": {
        "id": "xv398l2HAx9Z"
      },
      "outputs": [],
      "source": [
        "import pandas as pd\n",
        "import patsy\n",
        "import pandas   as pd\n",
        "import seaborn  as sns\n",
        "import numpy    as np\n",
        "\n",
        "import statsmodels.api as sm\n",
        "import statsmodels.formula.api as smf\n",
        "\n",
        "from patsy import dmatrices\n",
        "from sklearn.tree import DecisionTreeRegressor\n",
        "from sklearn.model_selection import train_test_split\n",
        "from sklearn.metrics import r2_score\n",
        "\n",
        "from sklearn.linear_model import Ridge\n",
        "from sklearn.linear_model import Lasso\n",
        "\n",
        "import matplotlib.pyplot as plt\n",
        "\n",
        "from statsmodels.regression.linear_model import OLS\n",
        "from statsmodels.tools import add_constant"
      ]
    },
    {
      "cell_type": "code",
      "execution_count": null,
      "metadata": {
        "id": "nybSNjyNAx9a"
      },
      "outputs": [],
      "source": [
        "df = pd.read_csv('/content/previsao_de_renda.csv')"
      ]
    },
    {
      "cell_type": "code",
      "execution_count": null,
      "metadata": {
        "id": "EQvYV_9FAx9b",
        "colab": {
          "base_uri": "https://localhost:8080/"
        },
        "outputId": "30d3547d-bf53-4e9d-9ade-7a2b5519cf39"
      },
      "outputs": [
        {
          "output_type": "stream",
          "name": "stdout",
          "text": [
            "<class 'pandas.core.frame.DataFrame'>\n",
            "RangeIndex: 15000 entries, 0 to 14999\n",
            "Data columns (total 15 columns):\n",
            " #   Column                 Non-Null Count  Dtype  \n",
            "---  ------                 --------------  -----  \n",
            " 0   Unnamed: 0             15000 non-null  int64  \n",
            " 1   data_ref               15000 non-null  object \n",
            " 2   id_cliente             15000 non-null  int64  \n",
            " 3   sexo                   15000 non-null  object \n",
            " 4   posse_de_veiculo       15000 non-null  bool   \n",
            " 5   posse_de_imovel        15000 non-null  bool   \n",
            " 6   qtd_filhos             15000 non-null  int64  \n",
            " 7   tipo_renda             15000 non-null  object \n",
            " 8   educacao               15000 non-null  object \n",
            " 9   estado_civil           15000 non-null  object \n",
            " 10  tipo_residencia        15000 non-null  object \n",
            " 11  idade                  15000 non-null  int64  \n",
            " 12  tempo_emprego          12427 non-null  float64\n",
            " 13  qt_pessoas_residencia  15000 non-null  float64\n",
            " 14  renda                  15000 non-null  float64\n",
            "dtypes: bool(2), float64(3), int64(4), object(6)\n",
            "memory usage: 1.5+ MB\n"
          ]
        }
      ],
      "source": [
        "df.info()"
      ]
    },
    {
      "cell_type": "code",
      "source": [
        "# Visando otimizar o tamanho do dataframe e o valor de memória ocupado, ire retirar algumas variáveis desnecessárias para as analises\n",
        "\n",
        "df_otimizado = df.drop(columns = ['Unnamed: 0', 'data_ref', 'id_cliente'])\n",
        "df_otimizado.info()"
      ],
      "metadata": {
        "id": "EYIrpPKvLKEg",
        "colab": {
          "base_uri": "https://localhost:8080/"
        },
        "outputId": "5d0bb6d9-7151-437e-ea6a-0b273d87944d"
      },
      "execution_count": null,
      "outputs": [
        {
          "output_type": "stream",
          "name": "stdout",
          "text": [
            "<class 'pandas.core.frame.DataFrame'>\n",
            "RangeIndex: 15000 entries, 0 to 14999\n",
            "Data columns (total 12 columns):\n",
            " #   Column                 Non-Null Count  Dtype  \n",
            "---  ------                 --------------  -----  \n",
            " 0   sexo                   15000 non-null  object \n",
            " 1   posse_de_veiculo       15000 non-null  bool   \n",
            " 2   posse_de_imovel        15000 non-null  bool   \n",
            " 3   qtd_filhos             15000 non-null  int64  \n",
            " 4   tipo_renda             15000 non-null  object \n",
            " 5   educacao               15000 non-null  object \n",
            " 6   estado_civil           15000 non-null  object \n",
            " 7   tipo_residencia        15000 non-null  object \n",
            " 8   idade                  15000 non-null  int64  \n",
            " 9   tempo_emprego          12427 non-null  float64\n",
            " 10  qt_pessoas_residencia  15000 non-null  float64\n",
            " 11  renda                  15000 non-null  float64\n",
            "dtypes: bool(2), float64(3), int64(2), object(5)\n",
            "memory usage: 1.2+ MB\n"
          ]
        }
      ]
    },
    {
      "cell_type": "markdown",
      "metadata": {
        "id": "1BapPSiOAx9c"
      },
      "source": [
        "1. Separe a base em treinamento e teste (25% para teste, 75% para treinamento).\n",
        "2. Rode uma regularização *ridge* com alpha = [0, 0.001, 0.005, 0.01, 0.05, 0.1] e avalie o $R^2$ na base de testes. Qual o melhor modelo?\n",
        "3. Faça o mesmo que no passo 2, com uma regressão *LASSO*. Qual método chega a um melhor resultado?\n",
        "4. Rode um modelo *stepwise*. Avalie o $R^2$ na base de testes. Qual o melhor resultado?\n",
        "5. Compare os parâmetros e avalie eventuais diferenças. Qual modelo você acha o melhor de todos?\n",
        "6. Partindo dos modelos que você ajustou, tente melhorar o $R^2$ na base de testes. Use a criatividade, veja se consegue inserir alguma transformação ou combinação de variáveis.\n",
        "7. Ajuste uma árvore de regressão e veja se consegue um $R^2$ melhor com ela."
      ]
    },
    {
      "cell_type": "markdown",
      "source": [
        "1. Separe a base em treinamento e teste (25% para teste, 75% para treinamento)."
      ],
      "metadata": {
        "id": "6cFCF05ALOpA"
      }
    },
    {
      "cell_type": "code",
      "source": [
        "# Separando a variável resposta 'renda' em 'y' e o restante em 'X'\n",
        "y, X = dmatrices('renda ~ sexo + posse_de_veiculo + posse_de_imovel + qtd_filhos + tipo_renda + educacao + estado_civil + tipo_residencia + idade + tempo_emprego + qt_pessoas_residencia', data = df_otimizado, return_type='dataframe')"
      ],
      "metadata": {
        "id": "hIMNVUFecwwm"
      },
      "execution_count": null,
      "outputs": []
    },
    {
      "cell_type": "code",
      "execution_count": null,
      "metadata": {
        "id": "ANQoOo9oAx9e"
      },
      "outputs": [],
      "source": [
        "# Realizando a separação da base de treinamento e teste do dataframe\n",
        "X_train, X_test, y_train, y_test = train_test_split(X, y, test_size=0.25, random_state=42)"
      ]
    },
    {
      "cell_type": "markdown",
      "source": [
        "2. Rode uma regularização ridge com alpha = [0, 0.001, 0.005, 0.01, 0.05, 0.1] e avalie o R2 na base de testes. Qual o melhor modelo?"
      ],
      "metadata": {
        "id": "Y5uXns5pN-TQ"
      }
    },
    {
      "cell_type": "code",
      "source": [
        "# Para realizar a avaliação de qual o melhor modelo variando os alphas, crio um loop contendo os valores de alpha\n",
        "alphas = [0, 0.001, 0.005, 0.01, 0.05, 0.1]\n",
        "\n",
        "for alpha in alphas:\n",
        "# Importanto a função Ridge dentro do scikit-learn posso utiliza-la no loop\n",
        "    ridge = Ridge(alpha=alpha)\n",
        "    ridge.fit(X_train, y_train)\n",
        "    y_pred = ridge.predict(X_test)\n",
        "# Coloco todos os valores de R² para serem avaliados e determinar qual foi o melhor atingido\n",
        "    r2_ridge = ridge.score(X_test, y_test)\n",
        "    print(f\"Alpha: {alpha}, R2 Score: {r2_ridge}\")"
      ],
      "metadata": {
        "id": "KokuEyNidBmt",
        "colab": {
          "base_uri": "https://localhost:8080/"
        },
        "outputId": "8b6132d9-2415-4e80-ac59-572ccce6edc7"
      },
      "execution_count": null,
      "outputs": [
        {
          "output_type": "stream",
          "name": "stdout",
          "text": [
            "Alpha: 0, R2 Score: 0.29796640176910316\n",
            "Alpha: 0.001, R2 Score: 0.2979664666220777\n",
            "Alpha: 0.005, R2 Score: 0.29796672589706097\n",
            "Alpha: 0.01, R2 Score: 0.29796704968324395\n",
            "Alpha: 0.05, R2 Score: 0.2979696277710632\n",
            "Alpha: 0.1, R2 Score: 0.29797282035425054\n"
          ]
        }
      ]
    },
    {
      "cell_type": "markdown",
      "source": [
        "3. Faça o mesmo que no passo 2, com uma regressão LASSO. Qual método chega a um melhor resultado?"
      ],
      "metadata": {
        "id": "Kq6QV861mwFc"
      }
    },
    {
      "cell_type": "code",
      "source": [
        "# Realizando a regressão LASSO para cada valor de alpha\n",
        "for alpha in alphas:\n",
        "  # Importando a função Lasso do scikit-learn, posso utiliza-la no loop para cada um dos alphas\n",
        "    lasso = Lasso(alpha=alpha)\n",
        "    lasso.fit(X_train, y_train)\n",
        "    y_pred = lasso.predict(X_test)\n",
        "    # Coloco todos os valores de R² para serem avaliados e determinar qual foi o melhor atingido\n",
        "    r2_lasso = lasso.score(X_test, y_test)\n",
        "    print(f\"Alpha: {alpha}, R2 Score: {r2_lasso}\")"
      ],
      "metadata": {
        "id": "p_wJHL8t0qSS",
        "colab": {
          "base_uri": "https://localhost:8080/"
        },
        "outputId": "8c229793-46e9-47d8-b4ee-2bfe6013ef8d"
      },
      "execution_count": null,
      "outputs": [
        {
          "output_type": "stream",
          "name": "stderr",
          "text": [
            "<ipython-input-11-d5e588996ee1>:5: UserWarning: With alpha=0, this algorithm does not converge well. You are advised to use the LinearRegression estimator\n",
            "  lasso.fit(X_train, y_train)\n",
            "/usr/local/lib/python3.10/dist-packages/sklearn/linear_model/_coordinate_descent.py:631: UserWarning: Coordinate descent with no regularization may lead to unexpected results and is discouraged.\n",
            "  model = cd_fast.enet_coordinate_descent(\n",
            "/usr/local/lib/python3.10/dist-packages/sklearn/linear_model/_coordinate_descent.py:631: ConvergenceWarning: Objective did not converge. You might want to increase the number of iterations, check the scale of the features or consider increasing regularisation. Duality gap: 3.036e+11, tolerance: 8.060e+07 Linear regression models with null weight for the l1 regularization term are more efficiently fitted using one of the solvers implemented in sklearn.linear_model.Ridge/RidgeCV instead.\n",
            "  model = cd_fast.enet_coordinate_descent(\n"
          ]
        },
        {
          "output_type": "stream",
          "name": "stdout",
          "text": [
            "Alpha: 0, R2 Score: 0.2979668544387346\n"
          ]
        },
        {
          "output_type": "stream",
          "name": "stderr",
          "text": [
            "/usr/local/lib/python3.10/dist-packages/sklearn/linear_model/_coordinate_descent.py:631: ConvergenceWarning: Objective did not converge. You might want to increase the number of iterations, check the scale of the features or consider increasing regularisation. Duality gap: 2.908e+11, tolerance: 8.060e+07\n",
            "  model = cd_fast.enet_coordinate_descent(\n"
          ]
        },
        {
          "output_type": "stream",
          "name": "stdout",
          "text": [
            "Alpha: 0.001, R2 Score: 0.29796732277878024\n"
          ]
        },
        {
          "output_type": "stream",
          "name": "stderr",
          "text": [
            "/usr/local/lib/python3.10/dist-packages/sklearn/linear_model/_coordinate_descent.py:631: ConvergenceWarning: Objective did not converge. You might want to increase the number of iterations, check the scale of the features or consider increasing regularisation. Duality gap: 2.466e+11, tolerance: 8.060e+07\n",
            "  model = cd_fast.enet_coordinate_descent(\n"
          ]
        },
        {
          "output_type": "stream",
          "name": "stdout",
          "text": [
            "Alpha: 0.005, R2 Score: 0.2979691934998303\n"
          ]
        },
        {
          "output_type": "stream",
          "name": "stderr",
          "text": [
            "/usr/local/lib/python3.10/dist-packages/sklearn/linear_model/_coordinate_descent.py:631: ConvergenceWarning: Objective did not converge. You might want to increase the number of iterations, check the scale of the features or consider increasing regularisation. Duality gap: 2.038e+11, tolerance: 8.060e+07\n",
            "  model = cd_fast.enet_coordinate_descent(\n"
          ]
        },
        {
          "output_type": "stream",
          "name": "stdout",
          "text": [
            "Alpha: 0.01, R2 Score: 0.29797152596309506\n"
          ]
        },
        {
          "output_type": "stream",
          "name": "stderr",
          "text": [
            "/usr/local/lib/python3.10/dist-packages/sklearn/linear_model/_coordinate_descent.py:631: ConvergenceWarning: Objective did not converge. You might want to increase the number of iterations, check the scale of the features or consider increasing regularisation. Duality gap: 6.563e+10, tolerance: 8.060e+07\n",
            "  model = cd_fast.enet_coordinate_descent(\n"
          ]
        },
        {
          "output_type": "stream",
          "name": "stdout",
          "text": [
            "Alpha: 0.05, R2 Score: 0.2979899481473126\n",
            "Alpha: 0.1, R2 Score: 0.29801238207281067\n"
          ]
        },
        {
          "output_type": "stream",
          "name": "stderr",
          "text": [
            "/usr/local/lib/python3.10/dist-packages/sklearn/linear_model/_coordinate_descent.py:631: ConvergenceWarning: Objective did not converge. You might want to increase the number of iterations, check the scale of the features or consider increasing regularisation. Duality gap: 2.573e+10, tolerance: 8.060e+07\n",
            "  model = cd_fast.enet_coordinate_descent(\n"
          ]
        }
      ]
    },
    {
      "cell_type": "markdown",
      "source": [
        "4. Rode um modelo stepwise. Avalie o R2 na base de testes. Qual o melhor resultado?"
      ],
      "metadata": {
        "id": "m9QeZwSsC3Rr"
      }
    },
    {
      "cell_type": "code",
      "source": [
        "# Definindo as variáveis de entrada (X) e a variável alvo (y)\n",
        "y, X = dmatrices('renda ~ sexo + posse_de_veiculo + posse_de_imovel + qtd_filhos + tipo_renda + educacao + estado_civil + tipo_residencia + idade + tempo_emprego + qt_pessoas_residencia', data = df_otimizado, return_type='dataframe')\n",
        "\n",
        "# Adicione a coluna de constante para o intercepto\n",
        "X = sm.add_constant(X)\n",
        "\n",
        "# Implemente a regressão stepwise\n",
        "# Iniciando o modelo vazio\n",
        "def stepwise_selection(X, y,\n",
        "                       initial_list=[],\n",
        "                       threshold_in=0.01,\n",
        "                       threshold_out=0.05,\n",
        "                       verbose=True):\n",
        "    included = list(initial_list)\n",
        "    # Iterações levando em consideração a variável com o menor o p-value\n",
        "    while True:\n",
        "        changed = False\n",
        "        # Forward step\n",
        "        excluded = list(set(X.columns) - set(included))\n",
        "        new_pval = pd.Series(index=excluded)\n",
        "        for new_column in excluded:\n",
        "            modelo = sm.OLS(y, sm.add_constant(X[included + [new_column]])).fit()\n",
        "            new_pval[new_column] = modelo.pvalues[new_column]\n",
        "        best_pval = new_pval.min()\n",
        "        if best_pval < threshold_in:\n",
        "            best_feature = new_pval.idxmin()\n",
        "            included.append(best_feature)\n",
        "            changed = True\n",
        "            if verbose:\n",
        "                print(f'Adicionando {best_feature} com p-value {best_pval:.6f}')\n",
        "        # Backward step\n",
        "        modelo = sm.OLS(y, sm.add_constant(X[included])).fit()\n",
        "        pvalues = modelo.pvalues.iloc[1:]\n",
        "        worst_pval = pvalues.max()\n",
        "        if worst_pval > threshold_out:\n",
        "            changed = True\n",
        "            worst_feature = pvalues.idxmax()\n",
        "            included.remove(worst_feature)\n",
        "            if verbose:\n",
        "                print(f'Removendo {worst_feature} com p-value {worst_pval:.6f}')\n",
        "        if not changed:\n",
        "            break\n",
        "    return included\n",
        "\n",
        "# Separando as variáveis mais relevantes para o modelo\n",
        "selected_features = stepwise_selection(X, y)\n",
        "\n",
        "# Ajustando o modelo final, usando as variáveis selecionadas\n",
        "modelo_final = sm.OLS(y, sm.add_constant(X[selected_features])).fit()\n",
        "\n",
        "# Calculando o R² do modelo\n",
        "y_pred = modelo_final.predict(sm.add_constant(X[selected_features]))\n",
        "r2 = r2_score(y, y_pred)\n",
        "\n",
        "# Demonstração do R² do modelo\n",
        "print(f\"R² do modelo stepwise: {r2}\")"
      ],
      "metadata": {
        "id": "cX7GmrURbGfa",
        "colab": {
          "base_uri": "https://localhost:8080/"
        },
        "outputId": "0635880c-d8d3-492a-ff7b-99387b7114e8"
      },
      "execution_count": null,
      "outputs": [
        {
          "output_type": "stream",
          "name": "stderr",
          "text": [
            "<ipython-input-16-d0225be0f363>:20: FutureWarning: The default dtype for empty Series will be 'object' instead of 'float64' in a future version. Specify a dtype explicitly to silence this warning.\n",
            "  new_pval = pd.Series(index=excluded)\n",
            "<ipython-input-16-d0225be0f363>:20: FutureWarning: The default dtype for empty Series will be 'object' instead of 'float64' in a future version. Specify a dtype explicitly to silence this warning.\n",
            "  new_pval = pd.Series(index=excluded)\n"
          ]
        },
        {
          "output_type": "stream",
          "name": "stdout",
          "text": [
            "Adicionando Intercept com p-value 0.000000\n",
            "Adicionando tempo_emprego com p-value 0.000000\n"
          ]
        },
        {
          "output_type": "stream",
          "name": "stderr",
          "text": [
            "<ipython-input-16-d0225be0f363>:20: FutureWarning: The default dtype for empty Series will be 'object' instead of 'float64' in a future version. Specify a dtype explicitly to silence this warning.\n",
            "  new_pval = pd.Series(index=excluded)\n",
            "<ipython-input-16-d0225be0f363>:20: FutureWarning: The default dtype for empty Series will be 'object' instead of 'float64' in a future version. Specify a dtype explicitly to silence this warning.\n",
            "  new_pval = pd.Series(index=excluded)\n"
          ]
        },
        {
          "output_type": "stream",
          "name": "stdout",
          "text": [
            "Adicionando sexo[T.M] com p-value 0.000000\n",
            "Adicionando tipo_renda[T.Empresário] com p-value 0.000000\n"
          ]
        },
        {
          "output_type": "stream",
          "name": "stderr",
          "text": [
            "<ipython-input-16-d0225be0f363>:20: FutureWarning: The default dtype for empty Series will be 'object' instead of 'float64' in a future version. Specify a dtype explicitly to silence this warning.\n",
            "  new_pval = pd.Series(index=excluded)\n"
          ]
        },
        {
          "output_type": "stream",
          "name": "stdout",
          "text": [
            "Adicionando idade com p-value 0.000000\n"
          ]
        },
        {
          "output_type": "stream",
          "name": "stderr",
          "text": [
            "<ipython-input-16-d0225be0f363>:20: FutureWarning: The default dtype for empty Series will be 'object' instead of 'float64' in a future version. Specify a dtype explicitly to silence this warning.\n",
            "  new_pval = pd.Series(index=excluded)\n"
          ]
        },
        {
          "output_type": "stream",
          "name": "stdout",
          "text": [
            "Adicionando educacao[T.Superior completo] com p-value 0.000003\n"
          ]
        },
        {
          "output_type": "stream",
          "name": "stderr",
          "text": [
            "<ipython-input-16-d0225be0f363>:20: FutureWarning: The default dtype for empty Series will be 'object' instead of 'float64' in a future version. Specify a dtype explicitly to silence this warning.\n",
            "  new_pval = pd.Series(index=excluded)\n"
          ]
        },
        {
          "output_type": "stream",
          "name": "stdout",
          "text": [
            "Adicionando qt_pessoas_residencia com p-value 0.007478\n"
          ]
        },
        {
          "output_type": "stream",
          "name": "stderr",
          "text": [
            "<ipython-input-16-d0225be0f363>:20: FutureWarning: The default dtype for empty Series will be 'object' instead of 'float64' in a future version. Specify a dtype explicitly to silence this warning.\n",
            "  new_pval = pd.Series(index=excluded)\n"
          ]
        },
        {
          "output_type": "stream",
          "name": "stdout",
          "text": [
            "R² do modelo stepwise: 0.25521294544316264\n"
          ]
        }
      ]
    },
    {
      "cell_type": "markdown",
      "source": [
        "5. Compare os parâmetros e avalie eventuais diferenças. Qual modelo você acha o melhor de todos?"
      ],
      "metadata": {
        "id": "2SADfeTD6bla"
      }
    },
    {
      "cell_type": "markdown",
      "source": [
        "Pelo que foi possível observar o melhor modelo de todos feitos, é a regressão LASSO com alpha de 0.1, que resultou em um valor de R² de 0.29801238207281067."
      ],
      "metadata": {
        "id": "NZ8oufVKsFWr"
      }
    },
    {
      "cell_type": "markdown",
      "source": [
        "6. Partindo dos modelos que você ajustou, tente melhorar o R2 na base de testes. Use a criatividade, veja se consegue inserir alguma transformação ou combinação de variáveis."
      ],
      "metadata": {
        "id": "Wri0kHope8PA"
      }
    },
    {
      "cell_type": "code",
      "source": [
        "# Inicialmente carrego a base de testes com alterações para tentar melhorar\n",
        "# Primeiramente realizamos alterações na variavel alvo \"renda\" ao incluir o operador de log\n",
        "y_v1, X_v1 = dmatrices('np.log(renda) ~ sexo + posse_de_veiculo + posse_de_imovel + qtd_filhos + tipo_renda + educacao + estado_civil + tipo_residencia + idade + tempo_emprego + qt_pessoas_residencia', data = df_otimizado, return_type='dataframe')\n",
        "\n",
        "# Realizando a separação da nova base de treinamento e teste do dataframe\n",
        "X_train, X_test, y_train, y_test = train_test_split(X_v1, y_v1, test_size=0.25, random_state=42)\n",
        "\n",
        "# Regularização ridge com a nova base de treinamento\n",
        "for alpha in alphas:\n",
        "# Importanto a função Ridge dentro do scikit-learn posso utiliza-la no loop\n",
        "    ridge = Ridge(alpha=alpha)\n",
        "    ridge.fit(X_train, y_train)\n",
        "    y_pred = ridge.predict(X_test)\n",
        "# Coloco todos os valores de R² para serem avaliados e determinar qual foi o melhor atingido\n",
        "    r2_ridge = ridge.score(X_test, y_test)\n",
        "    print(f\"Alpha Ridge: {alpha}, R2 Ridge: {r2_ridge}\")\n",
        "\n",
        "#Realizando a regressão LASSO com a nova base de treinamento\n",
        "for alpha in alphas:\n",
        "  # Importando a função Lasso do scikit-learn, posso utiliza-la no loop para cada um dos alphas\n",
        "    lasso = Lasso(alpha=alpha)\n",
        "    lasso.fit(X_train, y_train)\n",
        "    y_pred = lasso.predict(X_test)\n",
        "    # Coloco todos os valores de R² para serem avaliados e determinar qual foi o melhor atingido\n",
        "    r2_lasso = lasso.score(X_test, y_test)\n",
        "    print(f\"Alpha LASSO: {alpha}, R2 LASSO: {r2_lasso}\")\n",
        "\n",
        "# Adicione a coluna de constante para o intercepto\n",
        "X = sm.add_constant(X)\n",
        "\n",
        "# Implemente a regressão stepwise com a nova base de treinamento\n",
        "# Iniciando o modelo vazio\n",
        "def stepwise_selection(X, y,\n",
        "                       initial_list=[],\n",
        "                       threshold_in=0.01,\n",
        "                       threshold_out=0.05,\n",
        "                       verbose=True):\n",
        "    included = list(initial_list)\n",
        "    # Iterações levando em consideração a variável com o menor o p-value\n",
        "    while True:\n",
        "        changed = False\n",
        "        # Forward step\n",
        "        excluded = list(set(X.columns) - set(included))\n",
        "        new_pval = pd.Series(index=excluded)\n",
        "        for new_column in excluded:\n",
        "            modelo = sm.OLS(y, sm.add_constant(X[included + [new_column]])).fit()\n",
        "            new_pval[new_column] = modelo.pvalues[new_column]\n",
        "        best_pval = new_pval.min()\n",
        "        if best_pval < threshold_in:\n",
        "            best_feature = new_pval.idxmin()\n",
        "            included.append(best_feature)\n",
        "            changed = True\n",
        "            if verbose:\n",
        "                print(f'Adicionando {best_feature} com p-value {best_pval:.6f}')\n",
        "        # Backward step\n",
        "        modelo = sm.OLS(y, sm.add_constant(X[included])).fit()\n",
        "        pvalues = modelo.pvalues.iloc[1:]\n",
        "        worst_pval = pvalues.max()\n",
        "        if worst_pval > threshold_out:\n",
        "            changed = True\n",
        "            worst_feature = pvalues.idxmax()\n",
        "            included.remove(worst_feature)\n",
        "            if verbose:\n",
        "                print(f'Removendo {worst_feature} com p-value {worst_pval:.6f}')\n",
        "        if not changed:\n",
        "            break\n",
        "    return included\n",
        "\n",
        "# Separando as variáveis mais relevantes para o modelo\n",
        "selected_features = stepwise_selection(X, y)\n",
        "\n",
        "# Ajustando o modelo final, usando as variáveis selecionadas\n",
        "modelo_final = sm.OLS(y, sm.add_constant(X[selected_features])).fit()\n",
        "\n",
        "# Calculando o R² do modelo\n",
        "y_pred = modelo_final.predict(sm.add_constant(X[selected_features]))\n",
        "r2 = r2_score(y, y_pred)\n",
        "\n",
        "# Demonstração do R² do modelo\n",
        "print(f\"R² do modelo stepwise: {r2}\")"
      ],
      "metadata": {
        "id": "iXBKg0Ese_83",
        "colab": {
          "base_uri": "https://localhost:8080/"
        },
        "outputId": "f016d8bf-2f0f-4849-a9f6-ea19627dbf31"
      },
      "execution_count": null,
      "outputs": [
        {
          "output_type": "stream",
          "name": "stdout",
          "text": [
            "Alpha Ridge: 0, R2 Ridge: 0.36448580517136875\n",
            "Alpha Ridge: 0.001, R2 Ridge: 0.36448593654290395\n",
            "Alpha Ridge: 0.005, R2 Ridge: 0.36448646171841614\n",
            "Alpha Ridge: 0.01, R2 Ridge: 0.3644871174898512\n",
            "Alpha Ridge: 0.05, R2 Ridge: 0.36449233593063124\n",
            "Alpha Ridge: 0.1, R2 Ridge: 0.36449879055058876\n"
          ]
        },
        {
          "output_type": "stream",
          "name": "stderr",
          "text": [
            "<ipython-input-24-51f2ee538c5e>:22: UserWarning: With alpha=0, this algorithm does not converge well. You are advised to use the LinearRegression estimator\n",
            "  lasso.fit(X_train, y_train)\n",
            "/usr/local/lib/python3.10/dist-packages/sklearn/linear_model/_coordinate_descent.py:631: UserWarning: Coordinate descent with no regularization may lead to unexpected results and is discouraged.\n",
            "  model = cd_fast.enet_coordinate_descent(\n",
            "/usr/local/lib/python3.10/dist-packages/sklearn/linear_model/_coordinate_descent.py:631: ConvergenceWarning: Objective did not converge. You might want to increase the number of iterations, check the scale of the features or consider increasing regularisation. Duality gap: 2.428e+03, tolerance: 7.522e-01 Linear regression models with null weight for the l1 regularization term are more efficiently fitted using one of the solvers implemented in sklearn.linear_model.Ridge/RidgeCV instead.\n",
            "  model = cd_fast.enet_coordinate_descent(\n",
            "<ipython-input-24-51f2ee538c5e>:44: FutureWarning: The default dtype for empty Series will be 'object' instead of 'float64' in a future version. Specify a dtype explicitly to silence this warning.\n",
            "  new_pval = pd.Series(index=excluded)\n"
          ]
        },
        {
          "output_type": "stream",
          "name": "stdout",
          "text": [
            "Alpha LASSO: 0, R2 LASSO: 0.36448677518970685\n",
            "Alpha LASSO: 0.001, R2 LASSO: 0.3656473655112237\n",
            "Alpha LASSO: 0.005, R2 LASSO: 0.3650622487768106\n",
            "Alpha LASSO: 0.01, R2 LASSO: 0.3631418177298792\n",
            "Alpha LASSO: 0.05, R2 LASSO: 0.33737041908171617\n",
            "Alpha LASSO: 0.1, R2 LASSO: 0.2906813104862721\n",
            "Adicionando Intercept com p-value 0.000000\n",
            "Adicionando tempo_emprego com p-value 0.000000\n"
          ]
        },
        {
          "output_type": "stream",
          "name": "stderr",
          "text": [
            "<ipython-input-24-51f2ee538c5e>:44: FutureWarning: The default dtype for empty Series will be 'object' instead of 'float64' in a future version. Specify a dtype explicitly to silence this warning.\n",
            "  new_pval = pd.Series(index=excluded)\n",
            "<ipython-input-24-51f2ee538c5e>:44: FutureWarning: The default dtype for empty Series will be 'object' instead of 'float64' in a future version. Specify a dtype explicitly to silence this warning.\n",
            "  new_pval = pd.Series(index=excluded)\n"
          ]
        },
        {
          "output_type": "stream",
          "name": "stdout",
          "text": [
            "Adicionando sexo[T.M] com p-value 0.000000\n"
          ]
        },
        {
          "output_type": "stream",
          "name": "stderr",
          "text": [
            "<ipython-input-24-51f2ee538c5e>:44: FutureWarning: The default dtype for empty Series will be 'object' instead of 'float64' in a future version. Specify a dtype explicitly to silence this warning.\n",
            "  new_pval = pd.Series(index=excluded)\n"
          ]
        },
        {
          "output_type": "stream",
          "name": "stdout",
          "text": [
            "Adicionando tipo_renda[T.Empresário] com p-value 0.000000\n"
          ]
        },
        {
          "output_type": "stream",
          "name": "stderr",
          "text": [
            "<ipython-input-24-51f2ee538c5e>:44: FutureWarning: The default dtype for empty Series will be 'object' instead of 'float64' in a future version. Specify a dtype explicitly to silence this warning.\n",
            "  new_pval = pd.Series(index=excluded)\n"
          ]
        },
        {
          "output_type": "stream",
          "name": "stdout",
          "text": [
            "Adicionando idade com p-value 0.000000\n"
          ]
        },
        {
          "output_type": "stream",
          "name": "stderr",
          "text": [
            "<ipython-input-24-51f2ee538c5e>:44: FutureWarning: The default dtype for empty Series will be 'object' instead of 'float64' in a future version. Specify a dtype explicitly to silence this warning.\n",
            "  new_pval = pd.Series(index=excluded)\n"
          ]
        },
        {
          "output_type": "stream",
          "name": "stdout",
          "text": [
            "Adicionando educacao[T.Superior completo] com p-value 0.000003\n"
          ]
        },
        {
          "output_type": "stream",
          "name": "stderr",
          "text": [
            "<ipython-input-24-51f2ee538c5e>:44: FutureWarning: The default dtype for empty Series will be 'object' instead of 'float64' in a future version. Specify a dtype explicitly to silence this warning.\n",
            "  new_pval = pd.Series(index=excluded)\n"
          ]
        },
        {
          "output_type": "stream",
          "name": "stdout",
          "text": [
            "Adicionando qt_pessoas_residencia com p-value 0.007478\n"
          ]
        },
        {
          "output_type": "stream",
          "name": "stderr",
          "text": [
            "<ipython-input-24-51f2ee538c5e>:44: FutureWarning: The default dtype for empty Series will be 'object' instead of 'float64' in a future version. Specify a dtype explicitly to silence this warning.\n",
            "  new_pval = pd.Series(index=excluded)\n"
          ]
        },
        {
          "output_type": "stream",
          "name": "stdout",
          "text": [
            "R² do modelo stepwise: 0.25521294544316264\n"
          ]
        }
      ]
    },
    {
      "cell_type": "code",
      "source": [
        "# Inicialmente carrego a base de testes com alterações para tentar melhorar\n",
        "# Primeiramente realizamos alterações na variavel alvo \"renda\", incluindo o operador de potenciação\n",
        "y_v1, X_v1 = dmatrices('np.power(renda, 2) ~ sexo + posse_de_veiculo + posse_de_imovel + qtd_filhos + tipo_renda + educacao + estado_civil + tipo_residencia + idade + tempo_emprego + qt_pessoas_residencia', data = df_otimizado, return_type='dataframe')\n",
        "\n",
        "# Realizando a separação da nova base de treinamento e teste do dataframe\n",
        "X_train, X_test, y_train, y_test = train_test_split(X_v1, y_v1, test_size=0.25, random_state=42)\n",
        "\n",
        "# Regularização ridge com a nova base de treinamento\n",
        "for alpha in alphas:\n",
        "# Importanto a função Ridge dentro do scikit-learn posso utiliza-la no loop\n",
        "    ridge = Ridge(alpha=alpha)\n",
        "    ridge.fit(X_train, y_train)\n",
        "    y_pred = ridge.predict(X_test)\n",
        "# Coloco todos os valores de R² para serem avaliados e determinar qual foi o melhor atingido\n",
        "    r2_ridge = ridge.score(X_test, y_test)\n",
        "    print(f\"Alpha Ridge: {alpha}, R2 Ridge: {r2_ridge}\")\n",
        "\n",
        "#Realizando a regressão LASSO com a nova base de treinamento\n",
        "for alpha in alphas:\n",
        "  # Importando a função Lasso do scikit-learn, posso utiliza-la no loop para cada um dos alphas\n",
        "    lasso = Lasso(alpha=alpha)\n",
        "    lasso.fit(X_train, y_train)\n",
        "    y_pred = lasso.predict(X_test)\n",
        "    # Coloco todos os valores de R² para serem avaliados e determinar qual foi o melhor atingido\n",
        "    r2_lasso = lasso.score(X_test, y_test)\n",
        "    print(f\"Alpha LASSO: {alpha}, R2 LASSO: {r2_lasso}\")\n",
        "\n",
        "# Adicione a coluna de constante para o intercepto\n",
        "X_v1 = sm.add_constant(X_v1)\n",
        "\n",
        "# Implemente a regressão stepwise com a nova base de treinamento\n",
        "# Iniciando o modelo vazio\n",
        "def stepwise_selection(X_v1, y_v1,\n",
        "                       initial_list=[],\n",
        "                       threshold_in=0.01,\n",
        "                       threshold_out=0.05,\n",
        "                       verbose=True):\n",
        "    included = list(initial_list)\n",
        "    # Iterações levando em consideração a variável com o menor o p-value\n",
        "    while True:\n",
        "        changed = False\n",
        "        # Forward step\n",
        "        excluded = list(set(X_v1.columns) - set(included))\n",
        "        new_pval = pd.Series(index=excluded)\n",
        "        for new_column in excluded:\n",
        "            modelo = sm.OLS(y_v1, sm.add_constant(X_v1[included + [new_column]])).fit()\n",
        "            new_pval[new_column] = modelo.pvalues[new_column]\n",
        "        best_pval = new_pval.min()\n",
        "        if best_pval < threshold_in:\n",
        "            best_feature = new_pval.idxmin()\n",
        "            included.append(best_feature)\n",
        "            changed = True\n",
        "            if verbose:\n",
        "                print(f'Adicionando {best_feature} com p-value {best_pval:.6f}')\n",
        "        # Backward step\n",
        "        modelo = sm.OLS(y_v1, sm.add_constant(X_v1[included])).fit()\n",
        "        pvalues = modelo.pvalues.iloc[1:]\n",
        "        worst_pval = pvalues.max()\n",
        "        if worst_pval > threshold_out:\n",
        "            changed = True\n",
        "            worst_feature = pvalues.idxmax()\n",
        "            included.remove(worst_feature)\n",
        "            if verbose:\n",
        "                print(f'Removendo {worst_feature} com p-value {worst_pval:.6f}')\n",
        "        if not changed:\n",
        "            break\n",
        "    return included\n",
        "\n",
        "# Separando as variáveis mais relevantes para o modelo\n",
        "selected_features = stepwise_selection(X_v1, y_v1)\n",
        "\n",
        "# Ajustando o modelo final, usando as variáveis selecionadas\n",
        "modelo_final = sm.OLS(y_v1, sm.add_constant(X_v1[selected_features])).fit()\n",
        "\n",
        "# Calculando o R² do modelo\n",
        "y_pred = modelo_final.predict(sm.add_constant(X_v1[selected_features]))\n",
        "r2 = r2_score(y_v1, y_pred)\n",
        "\n",
        "# Demonstração do R² do modelo\n",
        "print(f\"R² do modelo stepwise: {r2}\")"
      ],
      "metadata": {
        "colab": {
          "base_uri": "https://localhost:8080/"
        },
        "id": "4OBY5s6jMslU",
        "outputId": "75d97f66-8f5e-45f9-986f-8aa6f30fb08f"
      },
      "execution_count": null,
      "outputs": [
        {
          "output_type": "stream",
          "name": "stdout",
          "text": [
            "Alpha Ridge: 0, R2 Ridge: 0.03038403587138583\n",
            "Alpha Ridge: 0.001, R2 Ridge: 0.03038419084827404\n",
            "Alpha Ridge: 0.005, R2 Ridge: 0.03038481060249032\n",
            "Alpha Ridge: 0.01, R2 Ridge: 0.030385584950666567\n",
            "Alpha Ridge: 0.05, R2 Ridge: 0.030391766034794432\n",
            "Alpha Ridge: 0.1, R2 Ridge: 0.030399458531562673\n"
          ]
        },
        {
          "output_type": "stream",
          "name": "stderr",
          "text": [
            "<ipython-input-27-3c2ac64462eb>:22: UserWarning: With alpha=0, this algorithm does not converge well. You are advised to use the LinearRegression estimator\n",
            "  lasso.fit(X_train, y_train)\n",
            "/usr/local/lib/python3.10/dist-packages/sklearn/linear_model/_coordinate_descent.py:631: UserWarning: Coordinate descent with no regularization may lead to unexpected results and is discouraged.\n",
            "  model = cd_fast.enet_coordinate_descent(\n",
            "/usr/local/lib/python3.10/dist-packages/sklearn/linear_model/_coordinate_descent.py:631: ConvergenceWarning: Objective did not converge. You might want to increase the number of iterations, check the scale of the features or consider increasing regularisation. Duality gap: 4.984e+21, tolerance: 1.060e+18 Linear regression models with null weight for the l1 regularization term are more efficiently fitted using one of the solvers implemented in sklearn.linear_model.Ridge/RidgeCV instead.\n",
            "  model = cd_fast.enet_coordinate_descent(\n"
          ]
        },
        {
          "output_type": "stream",
          "name": "stdout",
          "text": [
            "Alpha LASSO: 0, R2 LASSO: 0.030384081258523987\n"
          ]
        },
        {
          "output_type": "stream",
          "name": "stderr",
          "text": [
            "/usr/local/lib/python3.10/dist-packages/sklearn/linear_model/_coordinate_descent.py:631: ConvergenceWarning: Objective did not converge. You might want to increase the number of iterations, check the scale of the features or consider increasing regularisation. Duality gap: 4.984e+21, tolerance: 1.060e+18\n",
            "  model = cd_fast.enet_coordinate_descent(\n"
          ]
        },
        {
          "output_type": "stream",
          "name": "stdout",
          "text": [
            "Alpha LASSO: 0.001, R2 LASSO: 0.030384081271722763\n"
          ]
        },
        {
          "output_type": "stream",
          "name": "stderr",
          "text": [
            "/usr/local/lib/python3.10/dist-packages/sklearn/linear_model/_coordinate_descent.py:631: ConvergenceWarning: Objective did not converge. You might want to increase the number of iterations, check the scale of the features or consider increasing regularisation. Duality gap: 4.984e+21, tolerance: 1.060e+18\n",
            "  model = cd_fast.enet_coordinate_descent(\n"
          ]
        },
        {
          "output_type": "stream",
          "name": "stdout",
          "text": [
            "Alpha LASSO: 0.005, R2 LASSO: 0.030384081324518086\n"
          ]
        },
        {
          "output_type": "stream",
          "name": "stderr",
          "text": [
            "/usr/local/lib/python3.10/dist-packages/sklearn/linear_model/_coordinate_descent.py:631: ConvergenceWarning: Objective did not converge. You might want to increase the number of iterations, check the scale of the features or consider increasing regularisation. Duality gap: 4.984e+21, tolerance: 1.060e+18\n",
            "  model = cd_fast.enet_coordinate_descent(\n"
          ]
        },
        {
          "output_type": "stream",
          "name": "stdout",
          "text": [
            "Alpha LASSO: 0.01, R2 LASSO: 0.030384081390511963\n"
          ]
        },
        {
          "output_type": "stream",
          "name": "stderr",
          "text": [
            "/usr/local/lib/python3.10/dist-packages/sklearn/linear_model/_coordinate_descent.py:631: ConvergenceWarning: Objective did not converge. You might want to increase the number of iterations, check the scale of the features or consider increasing regularisation. Duality gap: 4.982e+21, tolerance: 1.060e+18\n",
            "  model = cd_fast.enet_coordinate_descent(\n"
          ]
        },
        {
          "output_type": "stream",
          "name": "stdout",
          "text": [
            "Alpha LASSO: 0.05, R2 LASSO: 0.03038408191846409\n"
          ]
        },
        {
          "output_type": "stream",
          "name": "stderr",
          "text": [
            "/usr/local/lib/python3.10/dist-packages/sklearn/linear_model/_coordinate_descent.py:631: ConvergenceWarning: Objective did not converge. You might want to increase the number of iterations, check the scale of the features or consider increasing regularisation. Duality gap: 4.980e+21, tolerance: 1.060e+18\n",
            "  model = cd_fast.enet_coordinate_descent(\n",
            "<ipython-input-27-3c2ac64462eb>:44: FutureWarning: The default dtype for empty Series will be 'object' instead of 'float64' in a future version. Specify a dtype explicitly to silence this warning.\n",
            "  new_pval = pd.Series(index=excluded)\n"
          ]
        },
        {
          "output_type": "stream",
          "name": "stdout",
          "text": [
            "Alpha LASSO: 0.1, R2 LASSO: 0.030384082578404303\n",
            "Adicionando tempo_emprego com p-value 0.000000\n",
            "Adicionando sexo[T.M] com p-value 0.000000\n"
          ]
        },
        {
          "output_type": "stream",
          "name": "stderr",
          "text": [
            "<ipython-input-27-3c2ac64462eb>:44: FutureWarning: The default dtype for empty Series will be 'object' instead of 'float64' in a future version. Specify a dtype explicitly to silence this warning.\n",
            "  new_pval = pd.Series(index=excluded)\n",
            "<ipython-input-27-3c2ac64462eb>:44: FutureWarning: The default dtype for empty Series will be 'object' instead of 'float64' in a future version. Specify a dtype explicitly to silence this warning.\n",
            "  new_pval = pd.Series(index=excluded)\n"
          ]
        },
        {
          "output_type": "stream",
          "name": "stdout",
          "text": [
            "Adicionando Intercept com p-value 0.000000\n"
          ]
        },
        {
          "output_type": "stream",
          "name": "stderr",
          "text": [
            "<ipython-input-27-3c2ac64462eb>:44: FutureWarning: The default dtype for empty Series will be 'object' instead of 'float64' in a future version. Specify a dtype explicitly to silence this warning.\n",
            "  new_pval = pd.Series(index=excluded)\n"
          ]
        },
        {
          "output_type": "stream",
          "name": "stdout",
          "text": [
            "Adicionando idade com p-value 0.002062\n"
          ]
        },
        {
          "output_type": "stream",
          "name": "stderr",
          "text": [
            "<ipython-input-27-3c2ac64462eb>:44: FutureWarning: The default dtype for empty Series will be 'object' instead of 'float64' in a future version. Specify a dtype explicitly to silence this warning.\n",
            "  new_pval = pd.Series(index=excluded)\n"
          ]
        },
        {
          "output_type": "stream",
          "name": "stdout",
          "text": [
            "Adicionando tipo_residencia[T.Governamental] com p-value 0.005217\n"
          ]
        },
        {
          "output_type": "stream",
          "name": "stderr",
          "text": [
            "<ipython-input-27-3c2ac64462eb>:44: FutureWarning: The default dtype for empty Series will be 'object' instead of 'float64' in a future version. Specify a dtype explicitly to silence this warning.\n",
            "  new_pval = pd.Series(index=excluded)\n"
          ]
        },
        {
          "output_type": "stream",
          "name": "stdout",
          "text": [
            "R² do modelo stepwise: 0.05846388075636877\n"
          ]
        }
      ]
    },
    {
      "cell_type": "markdown",
      "source": [
        "7. Ajuste uma árvore de regressão e veja se consegue um R2 melhor com ela."
      ],
      "metadata": {
        "id": "3cFesmhjfAco"
      }
    },
    {
      "cell_type": "code",
      "source": [
        "# Criação da arvore de decisão utilizando a base de treinamento criada acima\n",
        "reg_tree = DecisionTreeRegressor()\n",
        "\n",
        "# Treinamento do modelo\n",
        "reg_tree.fit(X_train, y_train)\n",
        "\n",
        "# Realizando as previsões do conjunto de teste\n",
        "y_pred = reg_tree.predict(X_test)\n",
        "\n",
        "# Calculo do R² para avaliar o desempenho do modelo\n",
        "r2 = r2_score(y_test, y_pred)\n",
        "\n",
        "# Demostrando o valor do R²\n",
        "print(\"R²:\", r2)"
      ],
      "metadata": {
        "id": "Yk1CzdOkfDhd",
        "colab": {
          "base_uri": "https://localhost:8080/"
        },
        "outputId": "afe77928-7b78-431c-c8ce-0fc8b7617bdd"
      },
      "execution_count": null,
      "outputs": [
        {
          "output_type": "stream",
          "name": "stdout",
          "text": [
            "R²: 0.2357531678591257\n"
          ]
        }
      ]
    }
  ],
  "metadata": {
    "kernelspec": {
      "display_name": "Python 3",
      "language": "python",
      "name": "python3"
    },
    "language_info": {
      "codemirror_mode": {
        "name": "ipython",
        "version": 3
      },
      "file_extension": ".py",
      "mimetype": "text/x-python",
      "name": "python",
      "nbconvert_exporter": "python",
      "pygments_lexer": "ipython3",
      "version": "3.8.5"
    },
    "colab": {
      "provenance": []
    }
  },
  "nbformat": 4,
  "nbformat_minor": 0
}