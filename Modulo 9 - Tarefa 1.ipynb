{
 "cells": [
  {
   "cell_type": "markdown",
   "metadata": {},
   "source": [
    "# Livro para consulta:\n",
    "- https://jakevdp.github.io/PythonDataScienceHandbook/03.08-aggregation-and-grouping.html\n",
    "- https://jakevdp.github.io/PythonDataScienceHandbook/03.09-pivot-tables.html\n",
    "    "
   ]
  },
  {
   "cell_type": "markdown",
   "metadata": {},
   "source": [
    "# 1. Importando bibliotecas <a name=\"import\"></a>\n",
    "\n",
    "<div style=\"text-align: right\"\n",
    "     \n",
    "[Voltar ao índice](#Contents)"
   ]
  },
  {
   "cell_type": "code",
   "execution_count": 89,
   "metadata": {
    "ExecuteTime": {
     "end_time": "2021-06-06T21:12:37.298706Z",
     "start_time": "2021-06-06T21:12:36.656481Z"
    }
   },
   "outputs": [],
   "source": [
    "import numpy as np\n",
    "import pandas as pd\n",
    "import seaborn as sns\n",
    "import matplotlib.pyplot as plt\n",
    "\n",
    "%matplotlib inline"
   ]
  },
  {
   "cell_type": "markdown",
   "metadata": {},
   "source": [
    "# 2. Carregando o dataframe SINASC <a name=\"read\"></a>\n",
    "<div style=\"text-align: right\"\n",
    "     \n",
    "[Voltar ao índice](#Contents)"
   ]
  },
  {
   "cell_type": "code",
   "execution_count": 90,
   "metadata": {
    "ExecuteTime": {
     "end_time": "2021-06-06T21:12:37.762376Z",
     "start_time": "2021-06-06T21:12:37.728383Z"
    },
    "scrolled": true,
    "tags": []
   },
   "outputs": [],
   "source": [
    "sinasc_raw = pd.read_csv('sinasc_ro_2019.csv')"
   ]
  },
  {
   "cell_type": "markdown",
   "metadata": {},
   "source": [
    "# Tarefa 1"
   ]
  },
  {
   "cell_type": "markdown",
   "metadata": {},
   "source": [
    "### 1. Idade media das mães e dos pais por município (coluna munResNome)\n"
   ]
  },
  {
   "cell_type": "code",
   "execution_count": 91,
   "metadata": {
    "tags": []
   },
   "outputs": [],
   "source": [
    "# Criando um dataframe com as colunas que serão usadas nas análises\n",
    "\n",
    "sinasc_v1 = sinasc_raw[['munResNome', 'IDADEMAE', 'IDADEPAI']]"
   ]
  },
  {
   "cell_type": "code",
   "execution_count": 92,
   "metadata": {
    "tags": []
   },
   "outputs": [
    {
     "name": "stdout",
     "output_type": "stream",
     "text": [
      "                            IDADEMAE   IDADEPAI\n",
      "munResNome                                     \n",
      "Alta Floresta D'Oeste      25.991826  29.548701\n",
      "Alto Alegre dos Parecis    24.844156  29.179104\n",
      "Alto Paraíso               24.960177  28.833333\n",
      "Alvorada D'Oeste           25.770732  30.757282\n",
      "Ariquemes                  25.607866  32.466667\n",
      "Buritis                    25.559177  30.812500\n",
      "Cabixi                     26.037500  34.333333\n",
      "Cacaulândia                25.546667  36.333333\n",
      "Cacoal                     26.890102  30.931854\n",
      "Campo Novo de Rondônia     24.825301  30.500000\n",
      "Candeias do Jamari         25.243323  29.894737\n",
      "Castanheiras               27.281250  30.392857\n",
      "Cerejeiras                 27.240506  31.652778\n",
      "Chupinguaia                25.333333  29.629630\n",
      "Colorado do Oeste          27.602804  34.354839\n",
      "Corumbiara                 24.716535  32.470588\n",
      "Costa Marques              24.412017  30.613636\n",
      "Cujubim                    24.482927  31.400000\n",
      "Espigão D'Oeste            26.093333  31.198113\n",
      "Governador Jorge Teixeira  24.401786  29.222222\n",
      "Guajará-Mirim              25.462228  30.470588\n",
      "Itapuã do Oeste            26.064220  42.500000\n",
      "Jaru                       25.982974  32.197183\n",
      "Ji-Paraná                  26.361137  31.132239\n",
      "Machadinho D'Oeste         25.480000  31.326923\n",
      "Ministro Andreazza         27.904762  33.849315\n",
      "Mirante da Serra           26.304878  32.154762\n",
      "Monte Negro                25.648241  34.678571\n",
      "Município ignorado - RO    24.000000  22.000000\n",
      "Nova Brasilândia D'Oeste   26.222222  30.520833\n",
      "Nova Mamoré                25.326389  31.692308\n",
      "Nova União                 26.894231  31.371429\n",
      "Novo Horizonte do Oeste    26.938776  31.588235\n",
      "Ouro Preto do Oeste        26.375594  31.233244\n",
      "Parecis                    26.454545  32.473684\n",
      "Pimenta Bueno              25.199675  29.745174\n",
      "Pimenteiras do Oeste       25.075000  35.600000\n",
      "Porto Velho                26.312670  32.352679\n",
      "Presidente Médici          25.796053  30.150754\n",
      "Primavera de Rondônia      27.023256  31.888889\n",
      "Rio Crespo                 26.660000  28.000000\n",
      "Rolim de Moura             26.600863  30.360479\n",
      "Santa Luzia D'Oeste        26.121212  30.703297\n",
      "Seringueiras               24.910714  30.500000\n",
      "São Felipe D'Oeste         26.481481  31.395833\n",
      "São Francisco do Guaporé   25.660066  31.638889\n",
      "São Miguel do Guaporé      25.926346  32.666667\n",
      "Teixeirópolis              26.031250  31.500000\n",
      "Theobroma                  25.536082  30.083333\n",
      "Urupá                      26.688235  31.008929\n",
      "Vale do Anari              26.096774  34.000000\n",
      "Vale do Paraíso            25.679012  29.976744\n",
      "Vilhena                    26.433962  34.152941\n"
     ]
    }
   ],
   "source": [
    "media_idade = sinasc_v1.groupby('munResNome').mean()\n",
    "print(media_idade)"
   ]
  },
  {
   "cell_type": "markdown",
   "metadata": {},
   "source": [
    "### 2. Peso médio dos bebes por sexo que nasceram no dia do seu aniversário por faixas de escolaridade mae\n",
    "Ex: Você, aluna(o), nasceu no dia 10/01, então você precisa filtrar o conjunto de dados nessa data e calcular o peso médio dos bebês de cada sexo por faixa de escolaridade da mãe."
   ]
  },
  {
   "cell_type": "code",
   "execution_count": 93,
   "metadata": {
    "tags": []
   },
   "outputs": [],
   "source": [
    "# Meu aniversário é 09/09\n",
    "# Criando um dataframe com as colunas que serão usadas nas análises\n",
    "sinasc_v2 = sinasc_raw[['PESO', 'ESCMAE', 'DTNASC', 'SEXO']]"
   ]
  },
  {
   "cell_type": "code",
   "execution_count": 94,
   "metadata": {
    "tags": []
   },
   "outputs": [
    {
     "name": "stdout",
     "output_type": "stream",
     "text": [
      "SEXO       ESCMAE         \n",
      "Feminino   1 a 3 anos         3780.000000\n",
      "           12 anos ou mais    3189.266667\n",
      "           4 a 7 anos         3136.666667\n",
      "           8 a 11 anos        3267.476190\n",
      "Masculino  12 anos ou mais    3212.421053\n",
      "           4 a 7 anos         3343.200000\n",
      "           8 a 11 anos        3330.695652\n",
      "Name: PESO, dtype: float64\n"
     ]
    }
   ],
   "source": [
    "sinasc_v2 = sinasc_v2[sinasc_v2['DTNASC'] == '2019-09-09']\n",
    "media_peso = sinasc_v2.groupby(['SEXO', 'ESCMAE'])['PESO'].mean()\n",
    "print(media_peso)"
   ]
  },
  {
   "cell_type": "markdown",
   "metadata": {},
   "source": [
    "### 3. Qual o municipio que nasceu menos bebe em 2019?\n",
    "    - qual a idade media, maxima, minima das maes nesse municipio?\n",
    "    - qual a idade media, maxima, minima dos pais nesse municipio?"
   ]
  },
  {
   "cell_type": "code",
   "execution_count": 95,
   "metadata": {
    "tags": []
   },
   "outputs": [
    {
     "data": {
      "text/plain": [
       "Porto Velho                  8437\n",
       "Ji-Paraná                    2182\n",
       "Ariquemes                    1729\n",
       "Vilhena                      1590\n",
       "Cacoal                       1374\n",
       "Rolim de Moura                927\n",
       "Jaru                          881\n",
       "Guajará-Mirim                 781\n",
       "Ouro Preto do Oeste           631\n",
       "Pimenta Bueno                 616\n",
       "Buritis                       583\n",
       "Machadinho D'Oeste            500\n",
       "Espigão D'Oeste               450\n",
       "Nova Mamoré                   432\n",
       "Alta Floresta D'Oeste         367\n",
       "São Miguel do Guaporé         353\n",
       "Candeias do Jamari            337\n",
       "Presidente Médici             304\n",
       "São Francisco do Guaporé      303\n",
       "Nova Brasilândia D'Oeste      261\n",
       "Cerejeiras                    237\n",
       "Costa Marques                 233\n",
       "Alto Paraíso                  226\n",
       "Colorado do Oeste             214\n",
       "Alvorada D'Oeste              205\n",
       "Cujubim                       205\n",
       "Monte Negro                   199\n",
       "Urupá                         170\n",
       "Seringueiras                  168\n",
       "Campo Novo de Rondônia        166\n",
       "Mirante da Serra              164\n",
       "Chupinguaia                   162\n",
       "Alto Alegre dos Parecis       154\n",
       "Corumbiara                    127\n",
       "Governador Jorge Teixeira     112\n",
       "Itapuã do Oeste               109\n",
       "Nova União                    104\n",
       "Santa Luzia D'Oeste            99\n",
       "Novo Horizonte do Oeste        98\n",
       "Theobroma                      97\n",
       "Vale do Anari                  93\n",
       "Ministro Andreazza             84\n",
       "Vale do Paraíso                81\n",
       "Cabixi                         80\n",
       "Cacaulândia                    75\n",
       "Teixeirópolis                  64\n",
       "São Felipe D'Oeste             54\n",
       "Rio Crespo                     50\n",
       "Parecis                        44\n",
       "Primavera de Rondônia          43\n",
       "Pimenteiras do Oeste           40\n",
       "Castanheiras                   32\n",
       "Município ignorado - RO         1\n",
       "Name: munResNome, dtype: int64"
      ]
     },
     "execution_count": 95,
     "metadata": {},
     "output_type": "execute_result"
    }
   ],
   "source": [
    "# Criando um dataframe com as colunas que serão usadas nas análises\n",
    "sinasc_v3 = sinasc_raw[['munResNome', 'IDADEMAE', 'IDADEPAI']]\n",
    "\n",
    "# Realizando a contagem dos nascimentos por município\n",
    "sinasc_v3['munResNome'].value_counts()"
   ]
  },
  {
   "cell_type": "markdown",
   "metadata": {},
   "source": [
    "##### O município com menos nascimentos, ignorando o \"Município ignorado - RO\", foi o de Castanheiras."
   ]
  },
  {
   "cell_type": "code",
   "execution_count": 96,
   "metadata": {
    "tags": []
   },
   "outputs": [
    {
     "name": "stdout",
     "output_type": "stream",
     "text": [
      "IDADEMAE    27.281250\n",
      "IDADEPAI    30.392857\n",
      "dtype: float64\n",
      "munResNome    Castanheiras\n",
      "IDADEMAE                39\n",
      "IDADEPAI              43.0\n",
      "dtype: object\n",
      "munResNome    Castanheiras\n",
      "IDADEMAE                17\n",
      "IDADEPAI              17.0\n",
      "dtype: object\n"
     ]
    },
    {
     "name": "stderr",
     "output_type": "stream",
     "text": [
      "C:\\Users\\rafa_\\AppData\\Local\\Temp\\ipykernel_1968\\2541315545.py:1: FutureWarning: The default value of numeric_only in DataFrame.mean is deprecated. In a future version, it will default to False. In addition, specifying 'numeric_only=None' is deprecated. Select only valid columns or specify the value of numeric_only to silence this warning.\n",
      "  media_idade_cast = sinasc_v3.groupby([\"munResNome\"]).get_group(\"Castanheiras\").mean()\n"
     ]
    }
   ],
   "source": [
    "media_idade_cast = sinasc_v3.groupby([\"munResNome\"]).get_group(\"Castanheiras\").mean()\n",
    "idade_max_cast = sinasc_v3.groupby([\"munResNome\"]).get_group(\"Castanheiras\").max()\n",
    "idade_min_cast = sinasc_v3.groupby([\"munResNome\"]).get_group(\"Castanheiras\").min()\n",
    "\n",
    "print(media_idade_cast)\n",
    "print(idade_max_cast)\n",
    "print(idade_min_cast)"
   ]
  },
  {
   "cell_type": "markdown",
   "metadata": {},
   "source": [
    "### 4. Qual o municipio que nasceu mais bebes no mês de março?\n",
    "    - qual a quantidade de filhos vivos media, maxima, minima nesse municipio?\n",
    "    - qual a idade media, maxima, minima dos pais nesse municipio?\n",
    "\n"
   ]
  },
  {
   "cell_type": "code",
   "execution_count": 97,
   "metadata": {
    "tags": []
   },
   "outputs": [
    {
     "name": "stdout",
     "output_type": "stream",
     "text": [
      "DTNASC  munResNome               \n",
      "3       Porto Velho                  744\n",
      "        Ji-Paraná                    188\n",
      "        Vilhena                      148\n",
      "        Ariquemes                    141\n",
      "        Cacoal                       133\n",
      "        Jaru                          80\n",
      "        Guajará-Mirim                 75\n",
      "        Rolim de Moura                69\n",
      "        Ouro Preto do Oeste           67\n",
      "        Pimenta Bueno                 62\n",
      "        Buritis                       59\n",
      "        Nova Mamoré                   53\n",
      "        Espigão D'Oeste               44\n",
      "        Machadinho D'Oeste            44\n",
      "        São Miguel do Guaporé         41\n",
      "        Candeias do Jamari            33\n",
      "        Alta Floresta D'Oeste         31\n",
      "        São Francisco do Guaporé      31\n",
      "        Presidente Médici             29\n",
      "        Costa Marques                 24\n",
      "        Alto Paraíso                  22\n",
      "        Alvorada D'Oeste              22\n",
      "        Monte Negro                   20\n",
      "        Nova Brasilândia D'Oeste      20\n",
      "        Colorado do Oeste             19\n",
      "        Seringueiras                  19\n",
      "        Chupinguaia                   18\n",
      "        Cujubim                       17\n",
      "        Cerejeiras                    16\n",
      "        Urupá                         14\n",
      "        Campo Novo de Rondônia        13\n",
      "        Vale do Paraíso               13\n",
      "        Corumbiara                    12\n",
      "        Vale do Anari                 11\n",
      "        Alto Alegre dos Parecis       10\n",
      "        Cacaulândia                   10\n",
      "        Governador Jorge Teixeira     10\n",
      "        Mirante da Serra               9\n",
      "        Rio Crespo                     9\n",
      "        Itapuã do Oeste                8\n",
      "        Theobroma                      8\n",
      "        Nova União                     7\n",
      "        Santa Luzia D'Oeste            7\n",
      "        Cabixi                         6\n",
      "        Ministro Andreazza             6\n",
      "        Parecis                        6\n",
      "        Pimenteiras do Oeste           6\n",
      "        Novo Horizonte do Oeste        5\n",
      "        Primavera de Rondônia          5\n",
      "        São Felipe D'Oeste             5\n",
      "        Castanheiras                   4\n",
      "        Teixeirópolis                  3\n",
      "Name: munResNome, dtype: int64\n"
     ]
    }
   ],
   "source": [
    "# Convertendo os valores presentes em 'DTNASC' para o tipo datetime\n",
    "sinasc_raw['DTNASC'] = pd.to_datetime(sinasc_raw['DTNASC'])\n",
    "\n",
    "# Criando um dataframe com as colunas que serão usadas nas análises\n",
    "sinasc_v4 = sinasc_raw[['DTNASC','IDADEMAE','IDADEPAI','munResNome','QTDFILVIVO']]\n",
    "\n",
    "# Contando os nascimentos no mês de março em cada município\n",
    "nasc_marco = sinasc_v4[sinasc_v4['DTNASC'].dt.month == 3].groupby(sinasc_v4['DTNASC'].dt.month)['munResNome'].value_counts()\n",
    "\n",
    "print(nasc_marco)"
   ]
  },
  {
   "cell_type": "code",
   "execution_count": 98,
   "metadata": {},
   "outputs": [
    {
     "name": "stdout",
     "output_type": "stream",
     "text": [
      "            mean  max  min\n",
      "DTNASC                    \n",
      "3       1.295056  9.0  0.0\n"
     ]
    }
   ],
   "source": [
    "# Qual a quantidade de filhos vivos media, maxima, minima nesse municipio?\n",
    "# Crio um objeto que realiza a separação das linhas com o município supracitado como com mais nascimentos e utilizo o operador & para utilizar somente os nascimentos em março. Após isso faço o\n",
    "# agrupamento pela data e faço as quantidades de média, máximo e mínimo de filhos vivos\n",
    "\n",
    "med_max_min = sinasc_v4[(sinasc_v4['munResNome'] == 'Porto Velho') & (sinasc_v4['DTNASC'].dt.month == 3)].groupby(sinasc_v4['DTNASC'].dt.month)['QTDFILVIVO'].agg(['mean', 'max', 'min'])\n",
    "\n",
    "print(med_max_min)"
   ]
  },
  {
   "cell_type": "code",
   "execution_count": 99,
   "metadata": {},
   "outputs": [
    {
     "name": "stdout",
     "output_type": "stream",
     "text": [
      "         IDADEMAE           IDADEPAI            \n",
      "             mean max min       mean   max   min\n",
      "DTNASC                                          \n",
      "3       26.596774  44  14  34.629032  62.0  19.0\n"
     ]
    }
   ],
   "source": [
    "# Crio um objeto que realiza a separação das linhas com o município supracitado como com mais nascimentos e utilizo o operador & para utilizar somente os nascimentos em março. Após isso faço o\n",
    "# agrupamento pela data e faço as média, máximo e mínimo da idades dos pais.\n",
    "\n",
    "idade_med_max_min = sinasc_v4[(sinasc_v4['munResNome'] == 'Porto Velho') & (sinasc_v4['DTNASC'].dt.month == 3)].groupby(sinasc_v4['DTNASC'].dt.month)[['IDADEMAE','IDADEPAI']].agg(['mean', 'max', 'min'])\n",
    "print(idade_med_max_min)"
   ]
  },
  {
   "cell_type": "markdown",
   "metadata": {},
   "source": [
    "### Analise as respostas encontradas, tire algum insight delas, conte pra gente algo encontrado nos dados. Algo que você julgue relevante e novo pra você."
   ]
  },
  {
   "cell_type": "markdown",
   "metadata": {},
   "source": [
    "Exemplo:\n",
    "- Ah, descobri que a idade mediana das mulheres que deram a luz no ano de 2019 dos municipios x é maior que y."
   ]
  },
  {
   "cell_type": "markdown",
   "metadata": {},
   "source": [
    "Na última análise, onde verificamos as idades minima e máxima dos pais no município de Porto Velho, capital de Rondonia. É possível perceber que a idade minima da mãe é bem menor do que 18 anos, idade que existe a maioridade pela legislação. O que dependendo da situação póde configurar alguns tipos de abuso, pois a menor idade registrada de algum pai foi de 19 anos."
   ]
  },
  {
   "cell_type": "markdown",
   "metadata": {},
   "source": [
    "### Irei analisar as correlações de peso e APGAR5 com as consultas para verificar se existem uma melhora de peso do recem nascido com o acompanhamento médico."
   ]
  },
  {
   "cell_type": "code",
   "execution_count": 100,
   "metadata": {},
   "outputs": [
    {
     "data": {
      "image/png": "[encoded data removed]",
      "text/plain": [
       "<Figure size 1500x500 with 1 Axes>"
      ]
     },
     "metadata": {},
     "output_type": "display_data"
    }
   ],
   "source": [
    "# Separar um dataframe com as variaveis a serem analisadas\n",
    "\n",
    "sinasc_analise = sinasc_raw[['CONSULTAS','ESCMAE','APGAR1','APGAR5','PESO']].dropna()\n",
    "sinasc_analise_drop = sinasc_analise.drop(sinasc_analise[sinasc_analise['CONSULTAS'] == 9].index)\n",
    "\n",
    "# Gráfico de peso vs. APGAR1\n",
    "sinasc_analise_drop.groupby('CONSULTAS')['APGAR1'].mean().sort_values().plot(figsize=[15,5])\n",
    "plt.ylabel('APGAR1 medio')\n",
    "plt.xlabel('CONSULTAS');"
   ]
  },
  {
   "cell_type": "code",
   "execution_count": 101,
   "metadata": {},
   "outputs": [
    {
     "data": {
      "image/png": "[encoded data removed]",
      "text/plain": [
       "<Figure size 1500x500 with 1 Axes>"
      ]
     },
     "metadata": {},
     "output_type": "display_data"
    }
   ],
   "source": [
    "sinasc_analise_drop.groupby('CONSULTAS')['APGAR5'].mean().sort_values().plot(figsize=[15,5])\n",
    "plt.ylabel('APGAR5 medio')\n",
    "plt.xlabel('CONSULTAS');"
   ]
  },
  {
   "cell_type": "code",
   "execution_count": 104,
   "metadata": {},
   "outputs": [
    {
     "data": {
      "image/png": "[encoded data removed]",
      "text/plain": [
       "<Figure size 1500x500 with 1 Axes>"
      ]
     },
     "metadata": {},
     "output_type": "display_data"
    }
   ],
   "source": [
    "sinasc_analise_drop.groupby('CONSULTAS')['PESO'].mean().plot(figsize=[15,5])\n",
    "plt.ylabel('Peso')\n",
    "plt.xlabel('CONSULTAS');"
   ]
  },
  {
   "cell_type": "markdown",
   "metadata": {},
   "source": [
    "#### É possível observar que tanto o APGAR1 e APGAR5 aumentam muito conforme são feitas mais consultas. Também podemos inferir que o peso, um fator determinante para o desenvolvimento do feto, crese conforme mais consultas foram sendo realizadas.\n",
    "#### Isso denota a importância do acompanhamento médico da gravidez."
   ]
  }
 ],
 "metadata": {
  "kernelspec": {
   "display_name": "Python 3 (ipykernel)",
   "language": "python",
   "name": "python3"
  },
  "language_info": {
   "codemirror_mode": {
    "name": "ipython",
    "version": 3
   },
   "file_extension": ".py",
   "mimetype": "text/x-python",
   "name": "python",
   "nbconvert_exporter": "python",
   "pygments_lexer": "ipython3",
   "version": "3.10.9"
  },
  "varInspector": {
   "cols": {
    "lenName": 16,
    "lenType": 16,
    "lenVar": 40
   },
   "kernels_config": {
    "python": {
     "delete_cmd_postfix": "",
     "delete_cmd_prefix": "del ",
     "library": "var_list.py",
     "varRefreshCmd": "print(var_dic_list())"
    },
    "r": {
     "delete_cmd_postfix": ") ",
     "delete_cmd_prefix": "rm(",
     "library": "var_list.r",
     "varRefreshCmd": "cat(var_dic_list()) "
    }
   },
   "types_to_exclude": [
    "module",
    "function",
    "builtin_function_or_method",
    "instance",
    "_Feature"
   ],
   "window_display": false
  }
 },
 "nbformat": 4,
 "nbformat_minor": 4
}
