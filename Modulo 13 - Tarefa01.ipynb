{
  "cells": [
    {
      "cell_type": "markdown",
      "metadata": {
        "id": "SG0G6wQzz0lJ"
      },
      "source": [
        "# EBAC - Regressão II - regressão múltipla\n",
        "\n",
        "## Tarefa I"
      ]
    },
    {
      "cell_type": "markdown",
      "metadata": {
        "id": "ICEe4wwvz0lL"
      },
      "source": [
        "#### Previsão de renda\n",
        "\n",
        "Vamos trabalhar com a base 'previsao_de_renda.csv', que é a base do seu próximo projeto. Vamos usar os recursos que vimos até aqui nesta base.\n",
        "\n",
        "|variavel|descrição|\n",
        "|-|-|\n",
        "|data_ref                | Data de referência de coleta das variáveis |\n",
        "|index                   | Código de identificação do cliente|\n",
        "|sexo                    | Sexo do cliente|\n",
        "|posse_de_veiculo        | Indica se o cliente possui veículo|\n",
        "|posse_de_imovel         | Indica se o cliente possui imóvel|\n",
        "|qtd_filhos              | Quantidade de filhos do cliente|\n",
        "|tipo_renda              | Tipo de renda do cliente|\n",
        "|educacao                | Grau de instrução do cliente|\n",
        "|estado_civil            | Estado civil do cliente|\n",
        "|tipo_residencia         | Tipo de residência do cliente (própria, alugada etc)|\n",
        "|idade                   | Idade do cliente|\n",
        "|tempo_emprego           | Tempo no emprego atual|\n",
        "|qt_pessoas_residencia   | Quantidade de pessoas que moram na residência|\n",
        "|renda                   | Renda em reais|"
      ]
    },
    {
      "cell_type": "code",
      "execution_count": 64,
      "metadata": {
        "id": "UX7p9PVkz0lN"
      },
      "outputs": [],
      "source": [
        "import patsy\n",
        "import pandas   as pd\n",
        "import seaborn  as sns\n",
        "import numpy    as np\n",
        "import statsmodels.api as sm\n",
        "import statsmodels.formula.api as smf\n",
        "\n",
        "import matplotlib.pyplot as plt\n",
        "\n",
        "from seaborn import load_dataset"
      ]
    },
    {
      "cell_type": "code",
      "execution_count": 65,
      "metadata": {
        "id": "xB2XSwCxz0lP"
      },
      "outputs": [],
      "source": [
        "df = pd.read_csv('/content/previsao_de_renda.csv')"
      ]
    },
    {
      "cell_type": "code",
      "execution_count": 66,
      "metadata": {
        "colab": {
          "base_uri": "https://localhost:8080/"
        },
        "id": "opJCjgQYz0lQ",
        "outputId": "a6879205-1a0e-4d01-c5c5-723f568f7ba8"
      },
      "outputs": [
        {
          "output_type": "stream",
          "name": "stdout",
          "text": [
            "<class 'pandas.core.frame.DataFrame'>\n",
            "RangeIndex: 15000 entries, 0 to 14999\n",
            "Data columns (total 15 columns):\n",
            " #   Column                 Non-Null Count  Dtype  \n",
            "---  ------                 --------------  -----  \n",
            " 0   Unnamed: 0             15000 non-null  int64  \n",
            " 1   data_ref               15000 non-null  object \n",
            " 2   id_cliente             15000 non-null  int64  \n",
            " 3   sexo                   15000 non-null  object \n",
            " 4   posse_de_veiculo       15000 non-null  bool   \n",
            " 5   posse_de_imovel        15000 non-null  bool   \n",
            " 6   qtd_filhos             15000 non-null  int64  \n",
            " 7   tipo_renda             15000 non-null  object \n",
            " 8   educacao               15000 non-null  object \n",
            " 9   estado_civil           15000 non-null  object \n",
            " 10  tipo_residencia        15000 non-null  object \n",
            " 11  idade                  15000 non-null  int64  \n",
            " 12  tempo_emprego          12427 non-null  float64\n",
            " 13  qt_pessoas_residencia  15000 non-null  float64\n",
            " 14  renda                  15000 non-null  float64\n",
            "dtypes: bool(2), float64(3), int64(4), object(6)\n",
            "memory usage: 1.5+ MB\n"
          ]
        }
      ],
      "source": [
        "df.info()"
      ]
    },
    {
      "cell_type": "code",
      "source": [
        "# Visando otimizar o tamanho do dataframe e o valor de memória ocupado, ire retirar algumas variáveis desnecessárias para as analises\n",
        "\n",
        "df_otimizado = df.drop(columns = ['Unnamed: 0', 'data_ref', 'id_cliente'])\n",
        "df_otimizado.info()"
      ],
      "metadata": {
        "colab": {
          "base_uri": "https://localhost:8080/"
        },
        "id": "zSN32QQoL0Le",
        "outputId": "1846e0a6-10d8-45f1-e25a-b23ba46648f4"
      },
      "execution_count": 67,
      "outputs": [
        {
          "output_type": "stream",
          "name": "stdout",
          "text": [
            "<class 'pandas.core.frame.DataFrame'>\n",
            "RangeIndex: 15000 entries, 0 to 14999\n",
            "Data columns (total 12 columns):\n",
            " #   Column                 Non-Null Count  Dtype  \n",
            "---  ------                 --------------  -----  \n",
            " 0   sexo                   15000 non-null  object \n",
            " 1   posse_de_veiculo       15000 non-null  bool   \n",
            " 2   posse_de_imovel        15000 non-null  bool   \n",
            " 3   qtd_filhos             15000 non-null  int64  \n",
            " 4   tipo_renda             15000 non-null  object \n",
            " 5   educacao               15000 non-null  object \n",
            " 6   estado_civil           15000 non-null  object \n",
            " 7   tipo_residencia        15000 non-null  object \n",
            " 8   idade                  15000 non-null  int64  \n",
            " 9   tempo_emprego          12427 non-null  float64\n",
            " 10  qt_pessoas_residencia  15000 non-null  float64\n",
            " 11  renda                  15000 non-null  float64\n",
            "dtypes: bool(2), float64(3), int64(2), object(5)\n",
            "memory usage: 1.2+ MB\n"
          ]
        }
      ]
    },
    {
      "cell_type": "markdown",
      "metadata": {
        "id": "0ImE0XLZz0lS"
      },
      "source": [
        "1. Ajuste um modelo para prever log(renda) considerando todas as covariáveis disponíveis.\n",
        "    - Utilizando os recursos do Patsy, coloque as variáveis qualitativas como *dummies*.\n",
        "    - Mantenha sempre a categoria mais frequente como casela de referência\n",
        "    - Avalie os parâmetros e veja se parecem fazer sentido prático.  \n",
        "\n",
        "\n",
        "2. Remova a variável menos significante e analise:\n",
        "    - Observe os indicadores que vimos, e avalie se o modelo melhorou ou piorou na sua opinião.\n",
        "    - Observe os parâmetros e veja se algum se alterou muito.  \n",
        "\n",
        "\n",
        "3. Siga removendo as variáveis menos significantes, sempre que o *p-value* for menor que 5%. Compare o modelo final com o inicial. Observe os indicadores e conclua se o modelo parece melhor.\n",
        "    "
      ]
    },
    {
      "cell_type": "markdown",
      "source": [
        "1. Ajuste um modelo para prever log(renda) considerando todas as covariáveis disponíveis."
      ],
      "metadata": {
        "id": "V1FV7mUgFq7Y"
      }
    },
    {
      "cell_type": "code",
      "execution_count": 68,
      "metadata": {
        "colab": {
          "base_uri": "https://localhost:8080/"
        },
        "id": "MgN3X5FUz0lS",
        "outputId": "d92231a8-24ee-449d-e327-dd6371caaf26"
      },
      "outputs": [
        {
          "output_type": "stream",
          "name": "stdout",
          "text": [
            "                            OLS Regression Results                            \n",
            "==============================================================================\n",
            "Dep. Variable:          np.log(renda)   R-squared:                       0.357\n",
            "Model:                            OLS   Adj. R-squared:                  0.355\n",
            "Method:                 Least Squares   F-statistic:                     312.5\n",
            "Date:                Wed, 05 Jul 2023   Prob (F-statistic):               0.00\n",
            "Time:                        00:26:00   Log-Likelihood:                -13576.\n",
            "No. Observations:               12427   AIC:                         2.720e+04\n",
            "Df Residuals:                   12404   BIC:                         2.737e+04\n",
            "Df Model:                          22                                         \n",
            "Covariance Type:            nonrobust                                         \n",
            "====================================================================================================\n",
            "                                       coef    std err          t      P>|t|      [0.025      0.975]\n",
            "----------------------------------------------------------------------------------------------------\n",
            "Intercept                            7.1849      0.094     76.098      0.000       7.000       7.370\n",
            "sexo[T.M]                            0.8013      0.014     57.522      0.000       0.774       0.829\n",
            "posse_de_imovel[T.True]              0.0844      0.014      6.032      0.000       0.057       0.112\n",
            "tipo_renda[T.Bolsista]               0.2050      0.241      0.850      0.396      -0.268       0.678\n",
            "tipo_renda[T.Empresário]             0.1553      0.015     10.391      0.000       0.126       0.185\n",
            "tipo_renda[T.Pensionista]           -0.3094      0.241     -1.281      0.200      -0.783       0.164\n",
            "tipo_renda[T.Servidor público]       0.0572      0.022      2.572      0.010       0.014       0.101\n",
            "educacao[T.Pós graduação]            0.1193      0.159      0.750      0.453      -0.192       0.431\n",
            "educacao[T.Secundário]              -0.0134      0.072     -0.186      0.852      -0.155       0.128\n",
            "educacao[T.Superior completo]        0.0975      0.072      1.349      0.178      -0.044       0.239\n",
            "educacao[T.Superior incompleto]     -0.0424      0.078     -0.545      0.586      -0.195       0.110\n",
            "estado_civil[T.Separado]             0.0269      0.028      0.965      0.334      -0.028       0.082\n",
            "estado_civil[T.Solteiro]            -0.0288      0.020     -1.413      0.158      -0.069       0.011\n",
            "estado_civil[T.União]               -0.0400      0.025     -1.590      0.112      -0.089       0.009\n",
            "estado_civil[T.Viúvo]                0.0728      0.042      1.746      0.081      -0.009       0.155\n",
            "tipo_residencia[T.Casa]             -0.0431      0.054     -0.796      0.426      -0.149       0.063\n",
            "tipo_residencia[T.Com os pais]      -0.0246      0.060     -0.407      0.684      -0.143       0.094\n",
            "tipo_residencia[T.Comunitário]      -0.1125      0.105     -1.068      0.286      -0.319       0.094\n",
            "tipo_residencia[T.Estúdio]           0.0736      0.099      0.741      0.459      -0.121       0.268\n",
            "tipo_residencia[T.Governamental]    -0.0541      0.066     -0.820      0.412      -0.184       0.075\n",
            "qtd_filhos                           0.0271      0.009      3.109      0.002       0.010       0.044\n",
            "idade                                0.0052      0.001      6.509      0.000       0.004       0.007\n",
            "tempo_emprego                        0.0616      0.001     59.317      0.000       0.060       0.064\n",
            "==============================================================================\n",
            "Omnibus:                        0.760   Durbin-Watson:                   2.023\n",
            "Prob(Omnibus):                  0.684   Jarque-Bera (JB):                0.739\n",
            "Skew:                           0.018   Prob(JB):                        0.691\n",
            "Kurtosis:                       3.014   Cond. No.                     1.59e+03\n",
            "==============================================================================\n",
            "\n",
            "Notes:\n",
            "[1] Standard Errors assume that the covariance matrix of the errors is correctly specified.\n",
            "[2] The condition number is large, 1.59e+03. This might indicate that there are\n",
            "strong multicollinearity or other numerical problems.\n"
          ]
        }
      ],
      "source": [
        "# Modelo para prever log(renda)\n",
        "modelo_renda = smf.ols('np.log(renda) ~ sexo + posse_de_imovel + qtd_filhos + tipo_renda + educacao + estado_civil + tipo_residencia + idade + tempo_emprego', data = df_otimizado).fit()\n",
        "print(modelo_renda.summary())"
      ]
    },
    {
      "cell_type": "markdown",
      "source": [
        "Utilizando os recursos do Patsy, coloque as variáveis qualitativas como dummies."
      ],
      "metadata": {
        "id": "DrWzjfcHFtT-"
      }
    },
    {
      "cell_type": "code",
      "source": [
        "# Modelo contendo as variáveis dummies\n",
        "modelo_renda_v1 = smf.ols('np.log(renda) ~ C(sexo) + posse_de_veiculo + posse_de_imovel + qtd_filhos + C(tipo_renda) + C(educacao) + C(estado_civil) + C(tipo_residencia) + idade + tempo_emprego + qt_pessoas_residencia', data = df_otimizado).fit()\n",
        "print(modelo_renda_v1.summary())"
      ],
      "metadata": {
        "colab": {
          "base_uri": "https://localhost:8080/"
        },
        "id": "xJ10RuU1FyxU",
        "outputId": "dda8c878-84e9-45ba-e740-005320114f24"
      },
      "execution_count": 69,
      "outputs": [
        {
          "output_type": "stream",
          "name": "stdout",
          "text": [
            "                            OLS Regression Results                            \n",
            "==============================================================================\n",
            "Dep. Variable:          np.log(renda)   R-squared:                       0.357\n",
            "Model:                            OLS   Adj. R-squared:                  0.356\n",
            "Method:                 Least Squares   F-statistic:                     287.5\n",
            "Date:                Wed, 05 Jul 2023   Prob (F-statistic):               0.00\n",
            "Time:                        00:26:02   Log-Likelihood:                -13568.\n",
            "No. Observations:               12427   AIC:                         2.719e+04\n",
            "Df Residuals:                   12402   BIC:                         2.737e+04\n",
            "Df Model:                          24                                         \n",
            "Covariance Type:            nonrobust                                         \n",
            "=======================================================================================================\n",
            "                                          coef    std err          t      P>|t|      [0.025      0.975]\n",
            "-------------------------------------------------------------------------------------------------------\n",
            "Intercept                               6.5847      0.235     28.006      0.000       6.124       7.046\n",
            "C(sexo)[T.M]                            0.7874      0.015     53.723      0.000       0.759       0.816\n",
            "posse_de_veiculo[T.True]                0.0441      0.014      3.119      0.002       0.016       0.072\n",
            "posse_de_imovel[T.True]                 0.0829      0.014      5.926      0.000       0.055       0.110\n",
            "C(tipo_renda)[T.Bolsista]               0.2209      0.241      0.916      0.360      -0.252       0.694\n",
            "C(tipo_renda)[T.Empresário]             0.1551      0.015     10.387      0.000       0.126       0.184\n",
            "C(tipo_renda)[T.Pensionista]           -0.3087      0.241     -1.280      0.201      -0.782       0.164\n",
            "C(tipo_renda)[T.Servidor público]       0.0576      0.022      2.591      0.010       0.014       0.101\n",
            "C(educacao)[T.Pós graduação]            0.1071      0.159      0.673      0.501      -0.205       0.419\n",
            "C(educacao)[T.Secundário]              -0.0141      0.072     -0.196      0.844      -0.155       0.127\n",
            "C(educacao)[T.Superior completo]        0.0938      0.072      1.298      0.194      -0.048       0.235\n",
            "C(educacao)[T.Superior incompleto]     -0.0432      0.078     -0.555      0.579      -0.196       0.109\n",
            "C(estado_civil)[T.Separado]             0.3265      0.111      2.935      0.003       0.108       0.545\n",
            "C(estado_civil)[T.Solteiro]             0.2672      0.109      2.453      0.014       0.054       0.481\n",
            "C(estado_civil)[T.União]               -0.0343      0.025     -1.361      0.174      -0.084       0.015\n",
            "C(estado_civil)[T.Viúvo]                0.3689      0.116      3.191      0.001       0.142       0.596\n",
            "C(tipo_residencia)[T.Casa]             -0.0442      0.054     -0.815      0.415      -0.150       0.062\n",
            "C(tipo_residencia)[T.Com os pais]      -0.0258      0.060     -0.427      0.670      -0.144       0.093\n",
            "C(tipo_residencia)[T.Comunitário]      -0.1196      0.105     -1.135      0.256      -0.326       0.087\n",
            "C(tipo_residencia)[T.Estúdio]           0.0665      0.099      0.670      0.503      -0.128       0.261\n",
            "C(tipo_residencia)[T.Governamental]    -0.0571      0.066     -0.865      0.387      -0.186       0.072\n",
            "qtd_filhos                             -0.2658      0.108     -2.463      0.014      -0.477      -0.054\n",
            "idade                                   0.0053      0.001      6.624      0.000       0.004       0.007\n",
            "tempo_emprego                           0.0617      0.001     59.398      0.000       0.060       0.064\n",
            "qt_pessoas_residencia                   0.2926      0.108      2.716      0.007       0.081       0.504\n",
            "==============================================================================\n",
            "Omnibus:                        0.858   Durbin-Watson:                   2.023\n",
            "Prob(Omnibus):                  0.651   Jarque-Bera (JB):                0.839\n",
            "Skew:                           0.019   Prob(JB):                        0.657\n",
            "Kurtosis:                       3.012   Cond. No.                     2.18e+03\n",
            "==============================================================================\n",
            "\n",
            "Notes:\n",
            "[1] Standard Errors assume that the covariance matrix of the errors is correctly specified.\n",
            "[2] The condition number is large, 2.18e+03. This might indicate that there are\n",
            "strong multicollinearity or other numerical problems.\n"
          ]
        }
      ]
    },
    {
      "cell_type": "markdown",
      "source": [
        "Mantenha sempre a categoria mais frequente como casela de referência"
      ],
      "metadata": {
        "id": "TzBy8a9pF00s"
      }
    },
    {
      "cell_type": "code",
      "source": [
        "# Sabendo que os coeficientes mais proximos do zero são os que indicam categorias mais frequentes, segue o modelo com cada uma das categorias mais frequentes.\n",
        "modelo_renda_v2 = smf.ols('np.log(renda) ~ C(sexo) + posse_de_veiculo + posse_de_imovel + qtd_filhos + C(tipo_renda, Treatment(\"Servidor público\")) + C(educacao, Treatment(\"Superior completo\")) + C(estado_civil, Treatment(\"Solteiro\")) + C(tipo_residencia, Treatment(\"Estúdio\")) + idade + tempo_emprego + qt_pessoas_residencia', data = df_otimizado).fit()\n",
        "print(modelo_renda_v2.summary())"
      ],
      "metadata": {
        "colab": {
          "base_uri": "https://localhost:8080/"
        },
        "id": "RBkUUmGBF1ua",
        "outputId": "cd95824d-3c26-44a9-9bd5-0ee564a1513e"
      },
      "execution_count": 70,
      "outputs": [
        {
          "output_type": "stream",
          "name": "stdout",
          "text": [
            "                            OLS Regression Results                            \n",
            "==============================================================================\n",
            "Dep. Variable:          np.log(renda)   R-squared:                       0.357\n",
            "Model:                            OLS   Adj. R-squared:                  0.356\n",
            "Method:                 Least Squares   F-statistic:                     287.5\n",
            "Date:                Wed, 05 Jul 2023   Prob (F-statistic):               0.00\n",
            "Time:                        00:26:02   Log-Likelihood:                -13568.\n",
            "No. Observations:               12427   AIC:                         2.719e+04\n",
            "Df Residuals:                   12402   BIC:                         2.737e+04\n",
            "Df Model:                          24                                         \n",
            "Covariance Type:            nonrobust                                         \n",
            "======================================================================================================================================\n",
            "                                                                         coef    std err          t      P>|t|      [0.025      0.975]\n",
            "--------------------------------------------------------------------------------------------------------------------------------------\n",
            "Intercept                                                              7.0698      0.143     49.331      0.000       6.789       7.351\n",
            "C(sexo)[T.M]                                                           0.7874      0.015     53.723      0.000       0.759       0.816\n",
            "posse_de_veiculo[T.True]                                               0.0441      0.014      3.119      0.002       0.016       0.072\n",
            "posse_de_imovel[T.True]                                                0.0829      0.014      5.926      0.000       0.055       0.110\n",
            "C(tipo_renda, Treatment(\"Servidor público\"))[T.Assalariado]           -0.0576      0.022     -2.591      0.010      -0.101      -0.014\n",
            "C(tipo_renda, Treatment(\"Servidor público\"))[T.Bolsista]               0.1633      0.242      0.675      0.500      -0.311       0.637\n",
            "C(tipo_renda, Treatment(\"Servidor público\"))[T.Empresário]             0.0976      0.024      4.054      0.000       0.050       0.145\n",
            "C(tipo_renda, Treatment(\"Servidor público\"))[T.Pensionista]           -0.3663      0.242     -1.514      0.130      -0.841       0.108\n",
            "C(educacao, Treatment(\"Superior completo\"))[T.Primário]               -0.0938      0.072     -1.298      0.194      -0.235       0.048\n",
            "C(educacao, Treatment(\"Superior completo\"))[T.Pós graduação]           0.0133      0.142      0.093      0.926      -0.265       0.292\n",
            "C(educacao, Treatment(\"Superior completo\"))[T.Secundário]             -0.1079      0.014     -7.763      0.000      -0.135      -0.081\n",
            "C(educacao, Treatment(\"Superior completo\"))[T.Superior incompleto]    -0.1370      0.033     -4.195      0.000      -0.201      -0.073\n",
            "C(estado_civil, Treatment(\"Solteiro\"))[T.Casado]                      -0.2672      0.109     -2.453      0.014      -0.481      -0.054\n",
            "C(estado_civil, Treatment(\"Solteiro\"))[T.Separado]                     0.0593      0.033      1.809      0.071      -0.005       0.124\n",
            "C(estado_civil, Treatment(\"Solteiro\"))[T.União]                       -0.3015      0.111     -2.714      0.007      -0.519      -0.084\n",
            "C(estado_civil, Treatment(\"Solteiro\"))[T.Viúvo]                        0.1017      0.045      2.255      0.024       0.013       0.190\n",
            "C(tipo_residencia, Treatment(\"Estúdio\"))[T.Aluguel]                   -0.0665      0.099     -0.670      0.503      -0.261       0.128\n",
            "C(tipo_residencia, Treatment(\"Estúdio\"))[T.Casa]                      -0.1107      0.084     -1.319      0.187      -0.275       0.054\n",
            "C(tipo_residencia, Treatment(\"Estúdio\"))[T.Com os pais]               -0.0923      0.088     -1.044      0.296      -0.265       0.081\n",
            "C(tipo_residencia, Treatment(\"Estúdio\"))[T.Comunitário]               -0.1861      0.123     -1.508      0.132      -0.428       0.056\n",
            "C(tipo_residencia, Treatment(\"Estúdio\"))[T.Governamental]             -0.1236      0.092     -1.343      0.179      -0.304       0.057\n",
            "qtd_filhos                                                            -0.2658      0.108     -2.463      0.014      -0.477      -0.054\n",
            "idade                                                                  0.0053      0.001      6.624      0.000       0.004       0.007\n",
            "tempo_emprego                                                          0.0617      0.001     59.398      0.000       0.060       0.064\n",
            "qt_pessoas_residencia                                                  0.2926      0.108      2.716      0.007       0.081       0.504\n",
            "==============================================================================\n",
            "Omnibus:                        0.858   Durbin-Watson:                   2.023\n",
            "Prob(Omnibus):                  0.651   Jarque-Bera (JB):                0.839\n",
            "Skew:                           0.019   Prob(JB):                        0.657\n",
            "Kurtosis:                       3.012   Cond. No.                     1.65e+03\n",
            "==============================================================================\n",
            "\n",
            "Notes:\n",
            "[1] Standard Errors assume that the covariance matrix of the errors is correctly specified.\n",
            "[2] The condition number is large, 1.65e+03. This might indicate that there are\n",
            "strong multicollinearity or other numerical problems.\n"
          ]
        }
      ]
    },
    {
      "cell_type": "markdown",
      "source": [
        "Avalie os parâmetros e veja se parecem fazer sentido prático."
      ],
      "metadata": {
        "id": "D-rbNB_WF3Og"
      }
    },
    {
      "cell_type": "markdown",
      "source": [
        "Avaliando os parâmetros de um por vez é possível observar que:\n",
        "*   Variável \"tipo_renda\": Utilizando a casela de referência \"Servidor público\" é possível observar que apareceu uma variável significativa \"Assalariado\" e a varíavel \"Empresário\" continua significativa, porém as outras varíaveis continuam sem ser significativas.\n",
        "*   Variável \"educacao\": Utilizando a casela de referência \"Superior completo\" é possível observar que apareceu uma variável não significativa \"Primário\". Foi possivel observar que as variáveis \"Secundário\" e \"Superior incompleto\" se tornaram significativas.\n",
        "*   Variável \"estado_civil\": Utilizando a casela de referência \"Solteiro\" é possível observar que apareceu uma variável significativa \"Casado\". É possível observar que somente a variável \"Separado\" não se tornou significativa e a variável \"União\"se tornou significativa. As demais, continuaram significativas.\n",
        "*   Variável \"tipo_residencia\": Utilizando a casela de referência \"Estúdio\" é possível observar que apareceu uma não variável significativa \"Aluguel\". E todas as variáveis continuam não significativas.\n",
        "\n",
        "\n",
        "\n",
        "\n",
        "\n"
      ],
      "metadata": {
        "id": "o9cpmySTzkb4"
      }
    },
    {
      "cell_type": "markdown",
      "source": [
        "2. Remova a variável menos significante e analise:"
      ],
      "metadata": {
        "id": "yTVuzCx0F5vp"
      }
    },
    {
      "cell_type": "markdown",
      "source": [
        "Observe os indicadores que vimos, e avalie se o modelo melhorou ou piorou na sua opinião.\n",
        "Observe os parâmetros e veja se algum se alterou muito."
      ],
      "metadata": {
        "id": "IRrVhN8PF_ep"
      }
    },
    {
      "cell_type": "code",
      "source": [
        "# Como podemos observar nos parâmetros, a variável menos significante é a \"Pós graduação\" dentro do campo \"educacao\". Segue o novo modelo retirando ela\n",
        "df_v1 = df_otimizado[df_otimizado['educacao'] != 'Pós graduação']\n",
        "\n",
        "modelo_renda_v3 = smf.ols('np.log(renda) ~ C(sexo) + posse_de_veiculo + posse_de_imovel + qtd_filhos + C(tipo_renda, Treatment(\"Servidor público\")) + C(educacao, Treatment(\"Secundário\")) + C(estado_civil, Treatment(\"Solteiro\")) + C(tipo_residencia, Treatment(\"Estúdio\")) + idade + tempo_emprego + qt_pessoas_residencia', data = df_v1).fit()\n",
        "print(modelo_renda_v3.summary())"
      ],
      "metadata": {
        "colab": {
          "base_uri": "https://localhost:8080/"
        },
        "id": "yyhybj4LGAAw",
        "outputId": "c7b5b55c-de40-4a22-dc81-3d478cb2b220"
      },
      "execution_count": 71,
      "outputs": [
        {
          "output_type": "stream",
          "name": "stdout",
          "text": [
            "                            OLS Regression Results                            \n",
            "==============================================================================\n",
            "Dep. Variable:          np.log(renda)   R-squared:                       0.358\n",
            "Model:                            OLS   Adj. R-squared:                  0.356\n",
            "Method:                 Least Squares   F-statistic:                     299.5\n",
            "Date:                Wed, 05 Jul 2023   Prob (F-statistic):               0.00\n",
            "Time:                        00:26:08   Log-Likelihood:                -13545.\n",
            "No. Observations:               12401   AIC:                         2.714e+04\n",
            "Df Residuals:                   12377   BIC:                         2.732e+04\n",
            "Df Model:                          23                                         \n",
            "Covariance Type:            nonrobust                                         \n",
            "===============================================================================================================================\n",
            "                                                                  coef    std err          t      P>|t|      [0.025      0.975]\n",
            "-------------------------------------------------------------------------------------------------------------------------------\n",
            "Intercept                                                       6.9595      0.144     48.341      0.000       6.677       7.242\n",
            "C(sexo)[T.M]                                                    0.7877      0.015     53.653      0.000       0.759       0.817\n",
            "posse_de_veiculo[T.True]                                        0.0444      0.014      3.139      0.002       0.017       0.072\n",
            "posse_de_imovel[T.True]                                         0.0828      0.014      5.921      0.000       0.055       0.110\n",
            "C(tipo_renda, Treatment(\"Servidor público\"))[T.Assalariado]    -0.0577      0.022     -2.593      0.010      -0.101      -0.014\n",
            "C(tipo_renda, Treatment(\"Servidor público\"))[T.Bolsista]        0.1630      0.242      0.674      0.501      -0.311       0.637\n",
            "C(tipo_renda, Treatment(\"Servidor público\"))[T.Empresário]      0.0974      0.024      4.046      0.000       0.050       0.145\n",
            "C(tipo_renda, Treatment(\"Servidor público\"))[T.Pensionista]    -0.3658      0.242     -1.511      0.131      -0.840       0.109\n",
            "C(educacao, Treatment(\"Secundário\"))[T.Primário]                0.0141      0.072      0.196      0.845      -0.127       0.155\n",
            "C(educacao, Treatment(\"Secundário\"))[T.Superior completo]       0.1080      0.014      7.765      0.000       0.081       0.135\n",
            "C(educacao, Treatment(\"Secundário\"))[T.Superior incompleto]    -0.0288      0.032     -0.892      0.372      -0.092       0.034\n",
            "C(estado_civil, Treatment(\"Solteiro\"))[T.Casado]               -0.2666      0.109     -2.446      0.014      -0.480      -0.053\n",
            "C(estado_civil, Treatment(\"Solteiro\"))[T.Separado]              0.0600      0.033      1.827      0.068      -0.004       0.124\n",
            "C(estado_civil, Treatment(\"Solteiro\"))[T.União]                -0.3008      0.111     -2.707      0.007      -0.519      -0.083\n",
            "C(estado_civil, Treatment(\"Solteiro\"))[T.Viúvo]                 0.1022      0.045      2.264      0.024       0.014       0.191\n",
            "C(tipo_residencia, Treatment(\"Estúdio\"))[T.Aluguel]            -0.0662      0.099     -0.666      0.505      -0.261       0.129\n",
            "C(tipo_residencia, Treatment(\"Estúdio\"))[T.Casa]               -0.1105      0.084     -1.316      0.188      -0.275       0.054\n",
            "C(tipo_residencia, Treatment(\"Estúdio\"))[T.Com os pais]        -0.0919      0.088     -1.040      0.298      -0.265       0.081\n",
            "C(tipo_residencia, Treatment(\"Estúdio\"))[T.Comunitário]        -0.1861      0.123     -1.507      0.132      -0.428       0.056\n",
            "C(tipo_residencia, Treatment(\"Estúdio\"))[T.Governamental]      -0.1234      0.092     -1.341      0.180      -0.304       0.057\n",
            "qtd_filhos                                                     -0.2661      0.108     -2.464      0.014      -0.478      -0.054\n",
            "idade                                                           0.0053      0.001      6.654      0.000       0.004       0.007\n",
            "tempo_emprego                                                   0.0617      0.001     59.321      0.000       0.060       0.064\n",
            "qt_pessoas_residencia                                           0.2928      0.108      2.716      0.007       0.081       0.504\n",
            "==============================================================================\n",
            "Omnibus:                        0.760   Durbin-Watson:                   2.021\n",
            "Prob(Omnibus):                  0.684   Jarque-Bera (JB):                0.743\n",
            "Skew:                           0.018   Prob(JB):                        0.690\n",
            "Kurtosis:                       3.010   Cond. No.                     1.65e+03\n",
            "==============================================================================\n",
            "\n",
            "Notes:\n",
            "[1] Standard Errors assume that the covariance matrix of the errors is correctly specified.\n",
            "[2] The condition number is large, 1.65e+03. This might indicate that there are\n",
            "strong multicollinearity or other numerical problems.\n"
          ]
        }
      ]
    },
    {
      "cell_type": "markdown",
      "source": [
        "Com a retirada da variável \"Pós graduação\", do campo \"educacao\", é possível observar que não houveram muitas variações no p-value das variáveis. Somente nas variáveis presentes no campo \"educacao\". Somente \"Superior completo\" se manteve significante.\n"
      ],
      "metadata": {
        "id": "-LuOjy9BLrAS"
      }
    },
    {
      "cell_type": "markdown",
      "source": [
        "3. Siga removendo as variáveis menos significantes, sempre que o p-value for menor que 5%. Compare o modelo final com o inicial. Observe os indicadores e conclua se o modelo parece melhor."
      ],
      "metadata": {
        "id": "Mss0W1ZSGNvJ"
      }
    },
    {
      "cell_type": "code",
      "source": [
        "# Segurei removendo as variáveis menos significantes, na ordem decresente dos p-values\n",
        "# Remoção da variável \"Primário\", presente no campo \"educacao\"\n",
        "df_v2 = df_v1[df_v1['educacao'] != 'Primário']\n",
        "\n",
        "modelo_renda_v4 = smf.ols('np.log(renda) ~ C(sexo) + posse_de_imovel + qtd_filhos + C(tipo_renda, Treatment(\"Servidor público\")) + C(educacao, Treatment(\"Secundário\")) + C(estado_civil, Treatment(\"Solteiro\")) + C(tipo_residencia, Treatment(\"Estúdio\")) + idade + tempo_emprego', data = df_v2).fit()\n",
        "print(modelo_renda_v4.summary())"
      ],
      "metadata": {
        "colab": {
          "base_uri": "https://localhost:8080/"
        },
        "id": "Fr5L3NCnGO_7",
        "outputId": "8e81ac2d-73a9-418d-ce10-c3e5de3020f3"
      },
      "execution_count": 72,
      "outputs": [
        {
          "output_type": "stream",
          "name": "stdout",
          "text": [
            "                            OLS Regression Results                            \n",
            "==============================================================================\n",
            "Dep. Variable:          np.log(renda)   R-squared:                       0.357\n",
            "Model:                            OLS   Adj. R-squared:                  0.356\n",
            "Method:                 Least Squares   F-statistic:                     340.5\n",
            "Date:                Wed, 05 Jul 2023   Prob (F-statistic):               0.00\n",
            "Time:                        00:26:09   Log-Likelihood:                -13452.\n",
            "No. Observations:               12298   AIC:                         2.695e+04\n",
            "Df Residuals:                   12277   BIC:                         2.710e+04\n",
            "Df Model:                          20                                         \n",
            "Covariance Type:            nonrobust                                         \n",
            "===============================================================================================================================\n",
            "                                                                  coef    std err          t      P>|t|      [0.025      0.975]\n",
            "-------------------------------------------------------------------------------------------------------------------------------\n",
            "Intercept                                                       7.2720      0.094     76.982      0.000       7.087       7.457\n",
            "C(sexo)[T.M]                                                    0.8036      0.014     57.281      0.000       0.776       0.831\n",
            "posse_de_imovel[T.True]                                         0.0821      0.014      5.832      0.000       0.054       0.110\n",
            "C(tipo_renda, Treatment(\"Servidor público\"))[T.Assalariado]    -0.0588      0.022     -2.635      0.008      -0.103      -0.015\n",
            "C(tipo_renda, Treatment(\"Servidor público\"))[T.Bolsista]        0.1478      0.242      0.610      0.542      -0.327       0.623\n",
            "C(tipo_renda, Treatment(\"Servidor público\"))[T.Empresário]      0.0990      0.024      4.096      0.000       0.052       0.146\n",
            "C(tipo_renda, Treatment(\"Servidor público\"))[T.Pensionista]    -0.3688      0.242     -1.522      0.128      -0.844       0.106\n",
            "C(educacao, Treatment(\"Secundário\"))[T.Superior completo]       0.1107      0.014      7.970      0.000       0.083       0.138\n",
            "C(educacao, Treatment(\"Secundário\"))[T.Superior incompleto]    -0.0293      0.032     -0.906      0.365      -0.093       0.034\n",
            "C(estado_civil, Treatment(\"Solteiro\"))[T.Casado]                0.0278      0.021      1.354      0.176      -0.012       0.068\n",
            "C(estado_civil, Treatment(\"Solteiro\"))[T.Separado]              0.0539      0.033      1.635      0.102      -0.011       0.119\n",
            "C(estado_civil, Treatment(\"Solteiro\"))[T.União]                -0.0170      0.030     -0.559      0.576      -0.077       0.043\n",
            "C(estado_civil, Treatment(\"Solteiro\"))[T.Viúvo]                 0.0971      0.046      2.126      0.034       0.008       0.187\n",
            "C(tipo_residencia, Treatment(\"Estúdio\"))[T.Aluguel]            -0.0659      0.100     -0.661      0.508      -0.261       0.129\n",
            "C(tipo_residencia, Treatment(\"Estúdio\"))[T.Casa]               -0.1151      0.084     -1.369      0.171      -0.280       0.050\n",
            "C(tipo_residencia, Treatment(\"Estúdio\"))[T.Com os pais]        -0.0994      0.089     -1.123      0.262      -0.273       0.074\n",
            "C(tipo_residencia, Treatment(\"Estúdio\"))[T.Comunitário]        -0.1756      0.127     -1.384      0.166      -0.424       0.073\n",
            "C(tipo_residencia, Treatment(\"Estúdio\"))[T.Governamental]      -0.1317      0.092     -1.427      0.154      -0.313       0.049\n",
            "qtd_filhos                                                      0.0274      0.009      3.128      0.002       0.010       0.045\n",
            "idade                                                           0.0053      0.001      6.567      0.000       0.004       0.007\n",
            "tempo_emprego                                                   0.0616      0.001     58.981      0.000       0.060       0.064\n",
            "==============================================================================\n",
            "Omnibus:                        0.603   Durbin-Watson:                   2.022\n",
            "Prob(Omnibus):                  0.740   Jarque-Bera (JB):                0.581\n",
            "Skew:                           0.015   Prob(JB):                        0.748\n",
            "Kurtosis:                       3.015   Cond. No.                     1.59e+03\n",
            "==============================================================================\n",
            "\n",
            "Notes:\n",
            "[1] Standard Errors assume that the covariance matrix of the errors is correctly specified.\n",
            "[2] The condition number is large, 1.59e+03. This might indicate that there are\n",
            "strong multicollinearity or other numerical problems.\n"
          ]
        }
      ]
    },
    {
      "cell_type": "code",
      "source": [
        "# Irei retirar o valor \"União\" da variável \"estado_civil\"\n",
        "df_v3 = df_v2[df_v2['estado_civil'] != 'União']\n",
        "\n",
        "modelo_renda_v5 = smf.ols('np.log(renda) ~ C(sexo) + posse_de_imovel + qtd_filhos + C(tipo_renda, Treatment(\"Servidor público\")) + C(educacao, Treatment(\"Secundário\")) + C(estado_civil, Treatment(\"Solteiro\")) + C(tipo_residencia, Treatment(\"Estúdio\")) + idade + tempo_emprego', data = df_v3).fit()\n",
        "print(modelo_renda_v5.summary())"
      ],
      "metadata": {
        "colab": {
          "base_uri": "https://localhost:8080/"
        },
        "id": "PPaHDl0BRn-8",
        "outputId": "b7760003-2945-484e-e7ac-a9c30a9f73d5"
      },
      "execution_count": 73,
      "outputs": [
        {
          "output_type": "stream",
          "name": "stdout",
          "text": [
            "                            OLS Regression Results                            \n",
            "==============================================================================\n",
            "Dep. Variable:          np.log(renda)   R-squared:                       0.361\n",
            "Model:                            OLS   Adj. R-squared:                  0.360\n",
            "Method:                 Least Squares   F-statistic:                     337.6\n",
            "Date:                Wed, 05 Jul 2023   Prob (F-statistic):               0.00\n",
            "Time:                        00:26:10   Log-Likelihood:                -12456.\n",
            "No. Observations:               11385   AIC:                         2.495e+04\n",
            "Df Residuals:                   11365   BIC:                         2.510e+04\n",
            "Df Model:                          19                                         \n",
            "Covariance Type:            nonrobust                                         \n",
            "===============================================================================================================================\n",
            "                                                                  coef    std err          t      P>|t|      [0.025      0.975]\n",
            "-------------------------------------------------------------------------------------------------------------------------------\n",
            "Intercept                                                       7.2506      0.099     73.374      0.000       7.057       7.444\n",
            "C(sexo)[T.M]                                                    0.8142      0.015     55.941      0.000       0.786       0.843\n",
            "posse_de_imovel[T.True]                                         0.0795      0.015      5.414      0.000       0.051       0.108\n",
            "C(tipo_renda, Treatment(\"Servidor público\"))[T.Assalariado]    -0.0597      0.023     -2.583      0.010      -0.105      -0.014\n",
            "C(tipo_renda, Treatment(\"Servidor público\"))[T.Bolsista]        0.1535      0.242      0.633      0.527      -0.322       0.629\n",
            "C(tipo_renda, Treatment(\"Servidor público\"))[T.Empresário]      0.1051      0.025      4.196      0.000       0.056       0.154\n",
            "C(tipo_renda, Treatment(\"Servidor público\"))[T.Pensionista]    -0.3673      0.243     -1.515      0.130      -0.843       0.108\n",
            "C(educacao, Treatment(\"Secundário\"))[T.Superior completo]       0.1083      0.014      7.488      0.000       0.080       0.137\n",
            "C(educacao, Treatment(\"Secundário\"))[T.Superior incompleto]    -0.0317      0.034     -0.935      0.350      -0.098       0.035\n",
            "C(estado_civil, Treatment(\"Solteiro\"))[T.Casado]                0.0289      0.021      1.405      0.160      -0.011       0.069\n",
            "C(estado_civil, Treatment(\"Solteiro\"))[T.Separado]              0.0568      0.033      1.721      0.085      -0.008       0.122\n",
            "C(estado_civil, Treatment(\"Solteiro\"))[T.Viúvo]                 0.1016      0.046      2.220      0.026       0.012       0.191\n",
            "C(tipo_residencia, Treatment(\"Estúdio\"))[T.Aluguel]            -0.0048      0.104     -0.046      0.964      -0.209       0.200\n",
            "C(tipo_residencia, Treatment(\"Estúdio\"))[T.Casa]               -0.0942      0.088     -1.067      0.286      -0.267       0.079\n",
            "C(tipo_residencia, Treatment(\"Estúdio\"))[T.Com os pais]        -0.0899      0.093     -0.966      0.334      -0.272       0.092\n",
            "C(tipo_residencia, Treatment(\"Estúdio\"))[T.Comunitário]        -0.1526      0.130     -1.176      0.240      -0.407       0.102\n",
            "C(tipo_residencia, Treatment(\"Estúdio\"))[T.Governamental]      -0.1250      0.096     -1.296      0.195      -0.314       0.064\n",
            "qtd_filhos                                                      0.0249      0.009      2.751      0.006       0.007       0.043\n",
            "idade                                                           0.0052      0.001      6.300      0.000       0.004       0.007\n",
            "tempo_emprego                                                   0.0617      0.001     57.189      0.000       0.060       0.064\n",
            "==============================================================================\n",
            "Omnibus:                        0.459   Durbin-Watson:                   2.031\n",
            "Prob(Omnibus):                  0.795   Jarque-Bera (JB):                0.445\n",
            "Skew:                           0.015   Prob(JB):                        0.801\n",
            "Kurtosis:                       3.009   Cond. No.                     1.53e+03\n",
            "==============================================================================\n",
            "\n",
            "Notes:\n",
            "[1] Standard Errors assume that the covariance matrix of the errors is correctly specified.\n",
            "[2] The condition number is large, 1.53e+03. This might indicate that there are\n",
            "strong multicollinearity or other numerical problems.\n"
          ]
        }
      ]
    },
    {
      "cell_type": "code",
      "source": [
        "# Irei retirar o valor \"Aluguel\" da variável \"tipo_residencia\"\n",
        "df_v4 = df_v3[df_v3['tipo_residencia'] != 'Aluguel']\n",
        "\n",
        "modelo_renda_v6 = smf.ols('np.log(renda) ~ C(sexo) + posse_de_imovel + qtd_filhos + C(tipo_renda, Treatment(\"Servidor público\")) + C(educacao, Treatment(\"Secundário\")) + C(estado_civil, Treatment(\"Solteiro\")) + C(tipo_residencia, Treatment(\"Estúdio\")) + idade + tempo_emprego', data = df_v4).fit()\n",
        "print(modelo_renda_v6.summary())"
      ],
      "metadata": {
        "colab": {
          "base_uri": "https://localhost:8080/"
        },
        "id": "hYbHigwvRnZl",
        "outputId": "864636a1-691e-4354-ae4f-a6b265bd5f63"
      },
      "execution_count": 74,
      "outputs": [
        {
          "output_type": "stream",
          "name": "stdout",
          "text": [
            "                            OLS Regression Results                            \n",
            "==============================================================================\n",
            "Dep. Variable:          np.log(renda)   R-squared:                       0.362\n",
            "Model:                            OLS   Adj. R-squared:                  0.361\n",
            "Method:                 Least Squares   F-statistic:                     352.9\n",
            "Date:                Wed, 05 Jul 2023   Prob (F-statistic):               0.00\n",
            "Time:                        00:26:11   Log-Likelihood:                -12264.\n",
            "No. Observations:               11218   AIC:                         2.457e+04\n",
            "Df Residuals:                   11199   BIC:                         2.470e+04\n",
            "Df Model:                          18                                         \n",
            "Covariance Type:            nonrobust                                         \n",
            "===============================================================================================================================\n",
            "                                                                  coef    std err          t      P>|t|      [0.025      0.975]\n",
            "-------------------------------------------------------------------------------------------------------------------------------\n",
            "Intercept                                                       7.2536      0.099     73.363      0.000       7.060       7.447\n",
            "C(sexo)[T.M]                                                    0.8158      0.015     55.684      0.000       0.787       0.845\n",
            "posse_de_imovel[T.True]                                         0.0831      0.015      5.612      0.000       0.054       0.112\n",
            "C(tipo_renda, Treatment(\"Servidor público\"))[T.Assalariado]    -0.0581      0.023     -2.500      0.012      -0.104      -0.013\n",
            "C(tipo_renda, Treatment(\"Servidor público\"))[T.Bolsista]        0.1531      0.242      0.632      0.527      -0.322       0.628\n",
            "C(tipo_renda, Treatment(\"Servidor público\"))[T.Empresário]      0.1079      0.025      4.279      0.000       0.058       0.157\n",
            "C(tipo_renda, Treatment(\"Servidor público\"))[T.Pensionista]    -0.3687      0.242     -1.522      0.128      -0.844       0.106\n",
            "C(educacao, Treatment(\"Secundário\"))[T.Superior completo]       0.1110      0.015      7.635      0.000       0.083       0.139\n",
            "C(educacao, Treatment(\"Secundário\"))[T.Superior incompleto]    -0.0387      0.034     -1.128      0.259      -0.106       0.029\n",
            "C(estado_civil, Treatment(\"Solteiro\"))[T.Casado]                0.0258      0.021      1.238      0.216      -0.015       0.067\n",
            "C(estado_civil, Treatment(\"Solteiro\"))[T.Separado]              0.0582      0.033      1.754      0.079      -0.007       0.123\n",
            "C(estado_civil, Treatment(\"Solteiro\"))[T.Viúvo]                 0.0944      0.046      2.053      0.040       0.004       0.184\n",
            "C(tipo_residencia, Treatment(\"Estúdio\"))[T.Casa]               -0.0941      0.088     -1.066      0.286      -0.267       0.079\n",
            "C(tipo_residencia, Treatment(\"Estúdio\"))[T.Com os pais]        -0.0894      0.093     -0.962      0.336      -0.272       0.093\n",
            "C(tipo_residencia, Treatment(\"Estúdio\"))[T.Comunitário]        -0.1527      0.130     -1.177      0.239      -0.407       0.101\n",
            "C(tipo_residencia, Treatment(\"Estúdio\"))[T.Governamental]      -0.1234      0.096     -1.281      0.200      -0.312       0.065\n",
            "qtd_filhos                                                      0.0221      0.009      2.437      0.015       0.004       0.040\n",
            "idade                                                           0.0051      0.001      6.147      0.000       0.004       0.007\n",
            "tempo_emprego                                                   0.0616      0.001     56.964      0.000       0.060       0.064\n",
            "==============================================================================\n",
            "Omnibus:                        0.720   Durbin-Watson:                   2.031\n",
            "Prob(Omnibus):                  0.698   Jarque-Bera (JB):                0.717\n",
            "Skew:                           0.020   Prob(JB):                        0.699\n",
            "Kurtosis:                       3.000   Cond. No.                     1.53e+03\n",
            "==============================================================================\n",
            "\n",
            "Notes:\n",
            "[1] Standard Errors assume that the covariance matrix of the errors is correctly specified.\n",
            "[2] The condition number is large, 1.53e+03. This might indicate that there are\n",
            "strong multicollinearity or other numerical problems.\n"
          ]
        }
      ]
    },
    {
      "cell_type": "code",
      "source": [
        "# Irei retirar o valor \"Bolsista\" da variável \"tipo_renda\"\n",
        "df_v5 = df_v4[df_v4['tipo_renda'] != 'Bolsista']\n",
        "\n",
        "modelo_renda_v7 = smf.ols('np.log(renda) ~ C(sexo) + posse_de_imovel + qtd_filhos + C(tipo_renda, Treatment(\"Servidor público\")) + C(educacao, Treatment(\"Secundário\")) + C(estado_civil, Treatment(\"Solteiro\")) + C(tipo_residencia, Treatment(\"Estúdio\")) + idade + tempo_emprego', data = df_v5).fit()\n",
        "print(modelo_renda_v7.summary())"
      ],
      "metadata": {
        "colab": {
          "base_uri": "https://localhost:8080/"
        },
        "id": "0CIpwoPyT8ZQ",
        "outputId": "52a74ba0-e84b-4863-ea8e-4d76ba0e284b"
      },
      "execution_count": 81,
      "outputs": [
        {
          "output_type": "stream",
          "name": "stdout",
          "text": [
            "                            OLS Regression Results                            \n",
            "==============================================================================\n",
            "Dep. Variable:          np.log(renda)   R-squared:                       0.362\n",
            "Model:                            OLS   Adj. R-squared:                  0.361\n",
            "Method:                 Least Squares   F-statistic:                     373.4\n",
            "Date:                Wed, 05 Jul 2023   Prob (F-statistic):               0.00\n",
            "Time:                        00:29:40   Log-Likelihood:                -12258.\n",
            "No. Observations:               11209   AIC:                         2.455e+04\n",
            "Df Residuals:                   11191   BIC:                         2.468e+04\n",
            "Df Model:                          17                                         \n",
            "Covariance Type:            nonrobust                                         \n",
            "===============================================================================================================================\n",
            "                                                                  coef    std err          t      P>|t|      [0.025      0.975]\n",
            "-------------------------------------------------------------------------------------------------------------------------------\n",
            "Intercept                                                       7.2536      0.099     73.342      0.000       7.060       7.447\n",
            "C(sexo)[T.M]                                                    0.8158      0.015     55.668      0.000       0.787       0.845\n",
            "posse_de_imovel[T.True]                                         0.0831      0.015      5.611      0.000       0.054       0.112\n",
            "C(tipo_renda, Treatment(\"Servidor público\"))[T.Assalariado]    -0.0581      0.023     -2.500      0.012      -0.104      -0.013\n",
            "C(tipo_renda, Treatment(\"Servidor público\"))[T.Empresário]      0.1079      0.025      4.278      0.000       0.058       0.157\n",
            "C(tipo_renda, Treatment(\"Servidor público\"))[T.Pensionista]    -0.3687      0.242     -1.521      0.128      -0.844       0.106\n",
            "C(educacao, Treatment(\"Secundário\"))[T.Superior completo]       0.1110      0.015      7.633      0.000       0.082       0.140\n",
            "C(educacao, Treatment(\"Secundário\"))[T.Superior incompleto]    -0.0387      0.034     -1.127      0.260      -0.106       0.029\n",
            "C(estado_civil, Treatment(\"Solteiro\"))[T.Casado]                0.0258      0.021      1.238      0.216      -0.015       0.067\n",
            "C(estado_civil, Treatment(\"Solteiro\"))[T.Separado]              0.0582      0.033      1.754      0.080      -0.007       0.123\n",
            "C(estado_civil, Treatment(\"Solteiro\"))[T.Viúvo]                 0.0944      0.046      2.052      0.040       0.004       0.185\n",
            "C(tipo_residencia, Treatment(\"Estúdio\"))[T.Casa]               -0.0941      0.088     -1.066      0.287      -0.267       0.079\n",
            "C(tipo_residencia, Treatment(\"Estúdio\"))[T.Com os pais]        -0.0894      0.093     -0.961      0.336      -0.272       0.093\n",
            "C(tipo_residencia, Treatment(\"Estúdio\"))[T.Comunitário]        -0.1527      0.130     -1.177      0.239      -0.407       0.102\n",
            "C(tipo_residencia, Treatment(\"Estúdio\"))[T.Governamental]      -0.1234      0.096     -1.280      0.200      -0.312       0.066\n",
            "qtd_filhos                                                      0.0221      0.009      2.436      0.015       0.004       0.040\n",
            "idade                                                           0.0051      0.001      6.146      0.000       0.004       0.007\n",
            "tempo_emprego                                                   0.0616      0.001     56.948      0.000       0.060       0.064\n",
            "==============================================================================\n",
            "Omnibus:                        0.715   Durbin-Watson:                   2.032\n",
            "Prob(Omnibus):                  0.700   Jarque-Bera (JB):                0.715\n",
            "Skew:                           0.020   Prob(JB):                        0.700\n",
            "Kurtosis:                       2.999   Cond. No.                     1.52e+03\n",
            "==============================================================================\n",
            "\n",
            "Notes:\n",
            "[1] Standard Errors assume that the covariance matrix of the errors is correctly specified.\n",
            "[2] The condition number is large, 1.52e+03. This might indicate that there are\n",
            "strong multicollinearity or other numerical problems.\n"
          ]
        }
      ]
    },
    {
      "cell_type": "code",
      "source": [
        "# Irei retirar a variável \"tipo_residencia\", pois nenhum dos p-values são significativos. E ao retirar uma por uma, houveram muitas distorções nas outras variáveis.\n",
        "\n",
        "modelo_renda_v8 = smf.ols('np.log(renda) ~ C(sexo) + posse_de_imovel + qtd_filhos + C(tipo_renda, Treatment(\"Servidor público\")) + C(educacao, Treatment(\"Secundário\")) + C(estado_civil, Treatment(\"Solteiro\")) + idade + tempo_emprego', data = df_v5).fit()\n",
        "print(modelo_renda_v8.summary())"
      ],
      "metadata": {
        "colab": {
          "base_uri": "https://localhost:8080/"
        },
        "id": "j3avpVPYT8Wb",
        "outputId": "d7970974-8c0e-41c1-f0ac-b0f3f48126d4"
      },
      "execution_count": 89,
      "outputs": [
        {
          "output_type": "stream",
          "name": "stdout",
          "text": [
            "                            OLS Regression Results                            \n",
            "==============================================================================\n",
            "Dep. Variable:          np.log(renda)   R-squared:                       0.362\n",
            "Model:                            OLS   Adj. R-squared:                  0.361\n",
            "Method:                 Least Squares   F-statistic:                     488.2\n",
            "Date:                Wed, 05 Jul 2023   Prob (F-statistic):               0.00\n",
            "Time:                        00:39:09   Log-Likelihood:                -12259.\n",
            "No. Observations:               11209   AIC:                         2.455e+04\n",
            "Df Residuals:                   11195   BIC:                         2.465e+04\n",
            "Df Model:                          13                                         \n",
            "Covariance Type:            nonrobust                                         \n",
            "===============================================================================================================================\n",
            "                                                                  coef    std err          t      P>|t|      [0.025      0.975]\n",
            "-------------------------------------------------------------------------------------------------------------------------------\n",
            "Intercept                                                       7.1600      0.045    159.959      0.000       7.072       7.248\n",
            "C(sexo)[T.M]                                                    0.8171      0.015     55.913      0.000       0.788       0.846\n",
            "posse_de_imovel[T.True]                                         0.0839      0.015      5.786      0.000       0.056       0.112\n",
            "C(tipo_renda, Treatment(\"Servidor público\"))[T.Assalariado]    -0.0592      0.023     -2.548      0.011      -0.105      -0.014\n",
            "C(tipo_renda, Treatment(\"Servidor público\"))[T.Empresário]      0.1074      0.025      4.263      0.000       0.058       0.157\n",
            "C(tipo_renda, Treatment(\"Servidor público\"))[T.Pensionista]    -0.3694      0.242     -1.524      0.127      -0.844       0.106\n",
            "C(educacao, Treatment(\"Secundário\"))[T.Superior completo]       0.1110      0.015      7.652      0.000       0.083       0.139\n",
            "C(educacao, Treatment(\"Secundário\"))[T.Superior incompleto]    -0.0391      0.034     -1.139      0.255      -0.106       0.028\n",
            "C(estado_civil, Treatment(\"Solteiro\"))[T.Casado]                0.0256      0.021      1.230      0.219      -0.015       0.066\n",
            "C(estado_civil, Treatment(\"Solteiro\"))[T.Separado]              0.0589      0.033      1.773      0.076      -0.006       0.124\n",
            "C(estado_civil, Treatment(\"Solteiro\"))[T.Viúvo]                 0.0934      0.046      2.031      0.042       0.003       0.183\n",
            "qtd_filhos                                                      0.0224      0.009      2.464      0.014       0.005       0.040\n",
            "idade                                                           0.0051      0.001      6.156      0.000       0.003       0.007\n",
            "tempo_emprego                                                   0.0617      0.001     57.031      0.000       0.060       0.064\n",
            "==============================================================================\n",
            "Omnibus:                        0.698   Durbin-Watson:                   2.032\n",
            "Prob(Omnibus):                  0.705   Jarque-Bera (JB):                0.699\n",
            "Skew:                           0.019   Prob(JB):                        0.705\n",
            "Kurtosis:                       2.998   Cond. No.                     1.52e+03\n",
            "==============================================================================\n",
            "\n",
            "Notes:\n",
            "[1] Standard Errors assume that the covariance matrix of the errors is correctly specified.\n",
            "[2] The condition number is large, 1.52e+03. This might indicate that there are\n",
            "strong multicollinearity or other numerical problems.\n"
          ]
        }
      ]
    },
    {
      "cell_type": "code",
      "source": [
        "# Irei retirar o valor \"Superior incompleto\" da variável \"educacao\"\n",
        "df_v6 = df_v5[df_v5['educacao'] != 'Superior incompleto']\n",
        "\n",
        "modelo_renda_v9 = smf.ols('np.log(renda) ~ C(sexo) + posse_de_imovel + qtd_filhos + C(tipo_renda, Treatment(\"Servidor público\")) + C(educacao, Treatment(\"Secundário\")) + C(estado_civil, Treatment(\"Solteiro\")) + idade + tempo_emprego', data = df_v6).fit()\n",
        "print(modelo_renda_v9.summary())"
      ],
      "metadata": {
        "colab": {
          "base_uri": "https://localhost:8080/"
        },
        "id": "tRoak10ZT8TJ",
        "outputId": "e8e5062e-ec25-4c4a-f894-b8cd63fe834b"
      },
      "execution_count": 91,
      "outputs": [
        {
          "output_type": "stream",
          "name": "stdout",
          "text": [
            "                            OLS Regression Results                            \n",
            "==============================================================================\n",
            "Dep. Variable:          np.log(renda)   R-squared:                       0.364\n",
            "Model:                            OLS   Adj. R-squared:                  0.363\n",
            "Method:                 Least Squares   F-statistic:                     509.6\n",
            "Date:                Wed, 05 Jul 2023   Prob (F-statistic):               0.00\n",
            "Time:                        00:40:02   Log-Likelihood:                -11751.\n",
            "No. Observations:               10716   AIC:                         2.353e+04\n",
            "Df Residuals:                   10703   BIC:                         2.362e+04\n",
            "Df Model:                          12                                         \n",
            "Covariance Type:            nonrobust                                         \n",
            "===============================================================================================================================\n",
            "                                                                  coef    std err          t      P>|t|      [0.025      0.975]\n",
            "-------------------------------------------------------------------------------------------------------------------------------\n",
            "Intercept                                                       7.1695      0.046    156.169      0.000       7.080       7.260\n",
            "C(sexo)[T.M]                                                    0.8235      0.015     54.837      0.000       0.794       0.853\n",
            "posse_de_imovel[T.True]                                         0.0861      0.015      5.769      0.000       0.057       0.115\n",
            "C(tipo_renda, Treatment(\"Servidor público\"))[T.Assalariado]    -0.0575      0.024     -2.438      0.015      -0.104      -0.011\n",
            "C(tipo_renda, Treatment(\"Servidor público\"))[T.Empresário]      0.1070      0.026      4.169      0.000       0.057       0.157\n",
            "C(tipo_renda, Treatment(\"Servidor público\"))[T.Pensionista]    -0.3716      0.243     -1.529      0.126      -0.848       0.105\n",
            "C(educacao, Treatment(\"Secundário\"))[T.Superior completo]       0.1111      0.015      7.632      0.000       0.083       0.140\n",
            "C(estado_civil, Treatment(\"Solteiro\"))[T.Casado]                0.0237      0.022      1.103      0.270      -0.018       0.066\n",
            "C(estado_civil, Treatment(\"Solteiro\"))[T.Separado]              0.0433      0.034      1.278      0.201      -0.023       0.110\n",
            "C(estado_civil, Treatment(\"Solteiro\"))[T.Viúvo]                 0.0924      0.046      1.988      0.047       0.001       0.183\n",
            "qtd_filhos                                                      0.0175      0.009      1.873      0.061      -0.001       0.036\n",
            "idade                                                           0.0048      0.001      5.711      0.000       0.003       0.007\n",
            "tempo_emprego                                                   0.0619      0.001     56.021      0.000       0.060       0.064\n",
            "==============================================================================\n",
            "Omnibus:                        0.750   Durbin-Watson:                   2.023\n",
            "Prob(Omnibus):                  0.687   Jarque-Bera (JB):                0.750\n",
            "Skew:                           0.020   Prob(JB):                        0.687\n",
            "Kurtosis:                       2.999   Cond. No.                     1.50e+03\n",
            "==============================================================================\n",
            "\n",
            "Notes:\n",
            "[1] Standard Errors assume that the covariance matrix of the errors is correctly specified.\n",
            "[2] The condition number is large, 1.5e+03. This might indicate that there are\n",
            "strong multicollinearity or other numerical problems.\n"
          ]
        }
      ]
    },
    {
      "cell_type": "code",
      "source": [
        "# Irei retirar o valor \"Casado\" da variável \"estado_civil\"\n",
        "df_v7 = df_v6[df_v6['estado_civil'] != 'Casado']\n",
        "\n",
        "modelo_renda_v10 = smf.ols('np.log(renda) ~ C(sexo) + posse_de_imovel + C(tipo_renda, Treatment(\"Servidor público\")) + C(educacao, Treatment(\"Secundário\")) + C(estado_civil, Treatment(\"Solteiro\")) + idade + tempo_emprego', data = df_v7).fit()\n",
        "print(modelo_renda_v10.summary())"
      ],
      "metadata": {
        "colab": {
          "base_uri": "https://localhost:8080/"
        },
        "id": "dCZGOK1yT8QR",
        "outputId": "5a0dca1b-432f-4772-b4b0-8d43772a0e3f"
      },
      "execution_count": 93,
      "outputs": [
        {
          "output_type": "stream",
          "name": "stdout",
          "text": [
            "                            OLS Regression Results                            \n",
            "==============================================================================\n",
            "Dep. Variable:          np.log(renda)   R-squared:                       0.331\n",
            "Model:                            OLS   Adj. R-squared:                  0.328\n",
            "Method:                 Least Squares   F-statistic:                     118.5\n",
            "Date:                Wed, 05 Jul 2023   Prob (F-statistic):          9.37e-201\n",
            "Time:                        00:44:45   Log-Likelihood:                -2583.4\n",
            "No. Observations:                2405   AIC:                             5189.\n",
            "Df Residuals:                    2394   BIC:                             5253.\n",
            "Df Model:                          10                                         \n",
            "Covariance Type:            nonrobust                                         \n",
            "===============================================================================================================================\n",
            "                                                                  coef    std err          t      P>|t|      [0.025      0.975]\n",
            "-------------------------------------------------------------------------------------------------------------------------------\n",
            "Intercept                                                       7.1965      0.087     83.189      0.000       7.027       7.366\n",
            "C(sexo)[T.M]                                                    0.7468      0.037     20.442      0.000       0.675       0.818\n",
            "posse_de_imovel[T.True]                                         0.0875      0.031      2.806      0.005       0.026       0.149\n",
            "C(tipo_renda, Treatment(\"Servidor público\"))[T.Assalariado]    -0.0323      0.049     -0.661      0.509      -0.128       0.063\n",
            "C(tipo_renda, Treatment(\"Servidor público\"))[T.Empresário]      0.1100      0.053      2.090      0.037       0.007       0.213\n",
            "C(tipo_renda, Treatment(\"Servidor público\"))[T.Pensionista]    -0.4826      0.273     -1.768      0.077      -1.018       0.053\n",
            "C(educacao, Treatment(\"Secundário\"))[T.Superior completo]       0.1562      0.030      5.193      0.000       0.097       0.215\n",
            "C(estado_civil, Treatment(\"Solteiro\"))[T.Separado]              0.0390      0.034      1.152      0.249      -0.027       0.105\n",
            "C(estado_civil, Treatment(\"Solteiro\"))[T.Viúvo]                 0.0714      0.048      1.488      0.137      -0.023       0.166\n",
            "idade                                                           0.0057      0.002      3.295      0.001       0.002       0.009\n",
            "tempo_emprego                                                   0.0536      0.002     26.661      0.000       0.050       0.058\n",
            "==============================================================================\n",
            "Omnibus:                        1.751   Durbin-Watson:                   1.994\n",
            "Prob(Omnibus):                  0.417   Jarque-Bera (JB):                1.808\n",
            "Skew:                           0.059   Prob(JB):                        0.405\n",
            "Kurtosis:                       2.934   Cond. No.                         834.\n",
            "==============================================================================\n",
            "\n",
            "Notes:\n",
            "[1] Standard Errors assume that the covariance matrix of the errors is correctly specified.\n"
          ]
        }
      ]
    },
    {
      "cell_type": "code",
      "source": [
        "# Irei retirar o valor \"Assalariado\" da variável \"tipo_renda\"\n",
        "df_v8 = df_v7[df_v7['tipo_renda'] != 'Assalariado']\n",
        "\n",
        "modelo_renda_v11 = smf.ols('np.log(renda) ~ C(sexo) + posse_de_imovel + C(tipo_renda, Treatment(\"Servidor público\")) + C(educacao, Treatment(\"Secundário\")) + C(estado_civil, Treatment(\"Solteiro\")) + idade + tempo_emprego', data = df_v8).fit()\n",
        "print(modelo_renda_v11.summary())"
      ],
      "metadata": {
        "colab": {
          "base_uri": "https://localhost:8080/"
        },
        "id": "qwDimAKNT8HV",
        "outputId": "fc624763-cf13-4649-9548-050fcaa6716f"
      },
      "execution_count": 94,
      "outputs": [
        {
          "output_type": "stream",
          "name": "stdout",
          "text": [
            "                            OLS Regression Results                            \n",
            "==============================================================================\n",
            "Dep. Variable:          np.log(renda)   R-squared:                       0.299\n",
            "Model:                            OLS   Adj. R-squared:                  0.292\n",
            "Method:                 Least Squares   F-statistic:                     46.04\n",
            "Date:                Wed, 05 Jul 2023   Prob (F-statistic):           3.69e-69\n",
            "Time:                        01:09:53   Log-Likelihood:                -1092.5\n",
            "No. Observations:                 982   AIC:                             2205.\n",
            "Df Residuals:                     972   BIC:                             2254.\n",
            "Df Model:                           9                                         \n",
            "Covariance Type:            nonrobust                                         \n",
            "===============================================================================================================================\n",
            "                                                                  coef    std err          t      P>|t|      [0.025      0.975]\n",
            "-------------------------------------------------------------------------------------------------------------------------------\n",
            "Intercept                                                       7.4319      0.130     57.036      0.000       7.176       7.688\n",
            "C(sexo)[T.M]                                                    0.6268      0.061     10.347      0.000       0.508       0.746\n",
            "posse_de_imovel[T.True]                                         0.1486      0.053      2.817      0.005       0.045       0.252\n",
            "C(tipo_renda, Treatment(\"Servidor público\"))[T.Empresário]      0.0972      0.057      1.718      0.086      -0.014       0.208\n",
            "C(tipo_renda, Treatment(\"Servidor público\"))[T.Pensionista]    -0.4238      0.286     -1.483      0.138      -0.984       0.137\n",
            "C(educacao, Treatment(\"Secundário\"))[T.Superior completo]       0.0694      0.048      1.432      0.153      -0.026       0.164\n",
            "C(estado_civil, Treatment(\"Solteiro\"))[T.Separado]              0.1186      0.057      2.081      0.038       0.007       0.230\n",
            "C(estado_civil, Treatment(\"Solteiro\"))[T.Viúvo]                 0.0517      0.084      0.618      0.537      -0.112       0.216\n",
            "idade                                                           0.0002      0.003      0.077      0.939      -0.005       0.006\n",
            "tempo_emprego                                                   0.0546      0.003     17.150      0.000       0.048       0.061\n",
            "==============================================================================\n",
            "Omnibus:                        1.109   Durbin-Watson:                   2.078\n",
            "Prob(Omnibus):                  0.574   Jarque-Bera (JB):                1.184\n",
            "Skew:                           0.074   Prob(JB):                        0.553\n",
            "Kurtosis:                       2.915   Cond. No.                         524.\n",
            "==============================================================================\n",
            "\n",
            "Notes:\n",
            "[1] Standard Errors assume that the covariance matrix of the errors is correctly specified.\n"
          ]
        }
      ]
    },
    {
      "cell_type": "code",
      "source": [
        "# Irei retirar a variável \"estado_civil\"\n",
        "\n",
        "modelo_renda_v12 = smf.ols('np.log(renda) ~ C(sexo) + posse_de_imovel + C(tipo_renda, Treatment(\"Servidor público\")) + C(educacao, Treatment(\"Secundário\")) + idade + tempo_emprego', data = df_v8).fit()\n",
        "print(modelo_renda_v12.summary())"
      ],
      "metadata": {
        "colab": {
          "base_uri": "https://localhost:8080/"
        },
        "id": "IlnK0zL7foWZ",
        "outputId": "6720b7f6-5f44-456b-b34d-ba275c705f80"
      },
      "execution_count": 96,
      "outputs": [
        {
          "output_type": "stream",
          "name": "stdout",
          "text": [
            "                            OLS Regression Results                            \n",
            "==============================================================================\n",
            "Dep. Variable:          np.log(renda)   R-squared:                       0.296\n",
            "Model:                            OLS   Adj. R-squared:                  0.291\n",
            "Method:                 Least Squares   F-statistic:                     58.44\n",
            "Date:                Wed, 05 Jul 2023   Prob (F-statistic):           5.27e-70\n",
            "Time:                        01:17:58   Log-Likelihood:                -1094.7\n",
            "No. Observations:                 982   AIC:                             2205.\n",
            "Df Residuals:                     974   BIC:                             2244.\n",
            "Df Model:                           7                                         \n",
            "Covariance Type:            nonrobust                                         \n",
            "===============================================================================================================================\n",
            "                                                                  coef    std err          t      P>|t|      [0.025      0.975]\n",
            "-------------------------------------------------------------------------------------------------------------------------------\n",
            "Intercept                                                       7.4273      0.129     57.450      0.000       7.174       7.681\n",
            "C(sexo)[T.M]                                                    0.6265      0.060     10.368      0.000       0.508       0.745\n",
            "posse_de_imovel[T.True]                                         0.1293      0.052      2.490      0.013       0.027       0.231\n",
            "C(tipo_renda, Treatment(\"Servidor público\"))[T.Empresário]      0.1057      0.056      1.886      0.060      -0.004       0.216\n",
            "C(tipo_renda, Treatment(\"Servidor público\"))[T.Pensionista]    -0.4518      0.286     -1.582      0.114      -1.012       0.109\n",
            "C(educacao, Treatment(\"Secundário\"))[T.Superior completo]       0.0672      0.048      1.386      0.166      -0.028       0.162\n",
            "idade                                                           0.0014      0.003      0.537      0.591      -0.004       0.007\n",
            "tempo_emprego                                                   0.0548      0.003     17.327      0.000       0.049       0.061\n",
            "==============================================================================\n",
            "Omnibus:                        1.053   Durbin-Watson:                   2.076\n",
            "Prob(Omnibus):                  0.591   Jarque-Bera (JB):                1.122\n",
            "Skew:                           0.074   Prob(JB):                        0.571\n",
            "Kurtosis:                       2.924   Cond. No.                         523.\n",
            "==============================================================================\n",
            "\n",
            "Notes:\n",
            "[1] Standard Errors assume that the covariance matrix of the errors is correctly specified.\n"
          ]
        }
      ]
    },
    {
      "cell_type": "code",
      "source": [
        "# Irei retirar a variável \"idade\"\n",
        "\n",
        "modelo_renda_v13 = smf.ols('np.log(renda) ~ C(sexo) + posse_de_imovel + C(tipo_renda, Treatment(\"Servidor público\")) + C(educacao, Treatment(\"Secundário\")) + tempo_emprego', data = df_v8).fit()\n",
        "print(modelo_renda_v13.summary())"
      ],
      "metadata": {
        "colab": {
          "base_uri": "https://localhost:8080/"
        },
        "id": "Rz34AsUwoLY4",
        "outputId": "13222e8e-7a50-48b6-8c81-d0a154cd31c2"
      },
      "execution_count": 97,
      "outputs": [
        {
          "output_type": "stream",
          "name": "stdout",
          "text": [
            "                            OLS Regression Results                            \n",
            "==============================================================================\n",
            "Dep. Variable:          np.log(renda)   R-squared:                       0.296\n",
            "Model:                            OLS   Adj. R-squared:                  0.291\n",
            "Method:                 Least Squares   F-statistic:                     68.18\n",
            "Date:                Wed, 05 Jul 2023   Prob (F-statistic):           7.04e-71\n",
            "Time:                        01:18:21   Log-Likelihood:                -1094.8\n",
            "No. Observations:                 982   AIC:                             2204.\n",
            "Df Residuals:                     975   BIC:                             2238.\n",
            "Df Model:                           6                                         \n",
            "Covariance Type:            nonrobust                                         \n",
            "===============================================================================================================================\n",
            "                                                                  coef    std err          t      P>|t|      [0.025      0.975]\n",
            "-------------------------------------------------------------------------------------------------------------------------------\n",
            "Intercept                                                       7.4843      0.074    101.319      0.000       7.339       7.629\n",
            "C(sexo)[T.M]                                                    0.6166      0.057     10.723      0.000       0.504       0.729\n",
            "posse_de_imovel[T.True]                                         0.1330      0.051      2.584      0.010       0.032       0.234\n",
            "C(tipo_renda, Treatment(\"Servidor público\"))[T.Empresário]      0.1038      0.056      1.856      0.064      -0.006       0.213\n",
            "C(tipo_renda, Treatment(\"Servidor público\"))[T.Pensionista]    -0.4572      0.285     -1.602      0.109      -1.017       0.103\n",
            "C(educacao, Treatment(\"Secundário\"))[T.Superior completo]       0.0627      0.048      1.313      0.189      -0.031       0.156\n",
            "tempo_emprego                                                   0.0554      0.003     18.621      0.000       0.050       0.061\n",
            "==============================================================================\n",
            "Omnibus:                        1.012   Durbin-Watson:                   2.079\n",
            "Prob(Omnibus):                  0.603   Jarque-Bera (JB):                1.077\n",
            "Skew:                           0.073   Prob(JB):                        0.584\n",
            "Kurtosis:                       2.929   Cond. No.                         144.\n",
            "==============================================================================\n",
            "\n",
            "Notes:\n",
            "[1] Standard Errors assume that the covariance matrix of the errors is correctly specified.\n"
          ]
        }
      ]
    },
    {
      "cell_type": "code",
      "source": [
        "# Irei retirar a variável \"educacao\"\n",
        "\n",
        "modelo_renda_v14 = smf.ols('np.log(renda) ~ C(sexo) + posse_de_imovel + C(tipo_renda, Treatment(\"Servidor público\")) + tempo_emprego', data = df_v8).fit()\n",
        "print(modelo_renda_v14.summary())"
      ],
      "metadata": {
        "colab": {
          "base_uri": "https://localhost:8080/"
        },
        "id": "H_nX5JNcoYIv",
        "outputId": "bfdb84ea-ef3b-4202-e9dc-b48c2b4b102a"
      },
      "execution_count": 99,
      "outputs": [
        {
          "output_type": "stream",
          "name": "stdout",
          "text": [
            "                            OLS Regression Results                            \n",
            "==============================================================================\n",
            "Dep. Variable:          np.log(renda)   R-squared:                       0.294\n",
            "Model:                            OLS   Adj. R-squared:                  0.291\n",
            "Method:                 Least Squares   F-statistic:                     81.41\n",
            "Date:                Wed, 05 Jul 2023   Prob (F-statistic):           1.74e-71\n",
            "Time:                        01:19:59   Log-Likelihood:                -1095.7\n",
            "No. Observations:                 982   AIC:                             2203.\n",
            "Df Residuals:                     976   BIC:                             2233.\n",
            "Df Model:                           5                                         \n",
            "Covariance Type:            nonrobust                                         \n",
            "===============================================================================================================================\n",
            "                                                                  coef    std err          t      P>|t|      [0.025      0.975]\n",
            "-------------------------------------------------------------------------------------------------------------------------------\n",
            "Intercept                                                       7.5081      0.072    104.799      0.000       7.367       7.649\n",
            "C(sexo)[T.M]                                                    0.6200      0.057     10.789      0.000       0.507       0.733\n",
            "posse_de_imovel[T.True]                                         0.1407      0.051      2.751      0.006       0.040       0.241\n",
            "C(tipo_renda, Treatment(\"Servidor público\"))[T.Empresário]      0.1060      0.056      1.897      0.058      -0.004       0.216\n",
            "C(tipo_renda, Treatment(\"Servidor público\"))[T.Pensionista]    -0.4334      0.285     -1.521      0.129      -0.993       0.126\n",
            "tempo_emprego                                                   0.0555      0.003     18.655      0.000       0.050       0.061\n",
            "==============================================================================\n",
            "Omnibus:                        1.077   Durbin-Watson:                   2.079\n",
            "Prob(Omnibus):                  0.584   Jarque-Bera (JB):                1.144\n",
            "Skew:                           0.075   Prob(JB):                        0.564\n",
            "Kurtosis:                       2.926   Cond. No.                         143.\n",
            "==============================================================================\n",
            "\n",
            "Notes:\n",
            "[1] Standard Errors assume that the covariance matrix of the errors is correctly specified.\n"
          ]
        }
      ]
    },
    {
      "cell_type": "code",
      "source": [
        "# Irei retirar o valor \"Pensionista\" da variável \"tipo_renda\"\n",
        "df_v9 = df_v8[df_v8['tipo_renda'] != 'Pensionista']\n",
        "\n",
        "modelo_renda_v14 = smf.ols('np.log(renda) ~ C(sexo) + posse_de_imovel + C(tipo_renda, Treatment(\"Servidor público\")) + tempo_emprego', data = df_v9).fit()\n",
        "print(modelo_renda_v14.summary())"
      ],
      "metadata": {
        "colab": {
          "base_uri": "https://localhost:8080/"
        },
        "id": "1142l1hBorjX",
        "outputId": "8b3d8a9c-8bc2-4bb3-8239-f1175d658ea9"
      },
      "execution_count": 100,
      "outputs": [
        {
          "output_type": "stream",
          "name": "stdout",
          "text": [
            "                            OLS Regression Results                            \n",
            "==============================================================================\n",
            "Dep. Variable:          np.log(renda)   R-squared:                       0.293\n",
            "Model:                            OLS   Adj. R-squared:                  0.290\n",
            "Method:                 Least Squares   F-statistic:                     100.3\n",
            "Date:                Wed, 05 Jul 2023   Prob (F-statistic):           1.85e-71\n",
            "Time:                        01:21:45   Log-Likelihood:                -1091.0\n",
            "No. Observations:                 975   AIC:                             2192.\n",
            "Df Residuals:                     970   BIC:                             2216.\n",
            "Df Model:                           4                                         \n",
            "Covariance Type:            nonrobust                                         \n",
            "==============================================================================================================================\n",
            "                                                                 coef    std err          t      P>|t|      [0.025      0.975]\n",
            "------------------------------------------------------------------------------------------------------------------------------\n",
            "Intercept                                                      7.5079      0.072    104.498      0.000       7.367       7.649\n",
            "C(sexo)[T.M]                                                   0.6170      0.058     10.658      0.000       0.503       0.731\n",
            "posse_de_imovel[T.True]                                        0.1429      0.051      2.776      0.006       0.042       0.244\n",
            "C(tipo_renda, Treatment(\"Servidor público\"))[T.Empresário]     0.1059      0.056      1.889      0.059      -0.004       0.216\n",
            "tempo_emprego                                                  0.0554      0.003     18.575      0.000       0.050       0.061\n",
            "==============================================================================\n",
            "Omnibus:                        1.174   Durbin-Watson:                   2.081\n",
            "Prob(Omnibus):                  0.556   Jarque-Bera (JB):                1.250\n",
            "Skew:                           0.075   Prob(JB):                        0.535\n",
            "Kurtosis:                       2.910   Cond. No.                         44.2\n",
            "==============================================================================\n",
            "\n",
            "Notes:\n",
            "[1] Standard Errors assume that the covariance matrix of the errors is correctly specified.\n"
          ]
        }
      ]
    },
    {
      "cell_type": "markdown",
      "source": [
        "O valor do R² diminuiu em relação do modelo inicial, porém houve uma redução muito grande no valor do AIC. Indicando uma melhor relação entre o ajuste e parcimônia do modelo."
      ],
      "metadata": {
        "id": "balclZZgpzdK"
      }
    }
  ],
  "metadata": {
    "kernelspec": {
      "display_name": "Python 3",
      "language": "python",
      "name": "python3"
    },
    "language_info": {
      "codemirror_mode": {
        "name": "ipython",
        "version": 3
      },
      "file_extension": ".py",
      "mimetype": "text/x-python",
      "name": "python",
      "nbconvert_exporter": "python",
      "pygments_lexer": "ipython3",
      "version": "3.8.5"
    },
    "colab": {
      "provenance": []
    }
  },
  "nbformat": 4,
  "nbformat_minor": 0
}