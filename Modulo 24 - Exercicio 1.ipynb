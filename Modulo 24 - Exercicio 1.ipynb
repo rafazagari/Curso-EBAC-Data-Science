{
 "cells": [
  {
   "cell_type": "code",
   "execution_count": 32,
   "metadata": {},
   "outputs": [
    {
     "name": "stdout",
     "output_type": "stream",
     "text": [
      "Acurácia do AdaBoost: 1.00\n"
     ]
    }
   ],
   "source": [
    "from sklearn.model_selection import train_test_split, GridSearchCV\n",
    "from sklearn.ensemble import AdaBoostClassifier\n",
    "from sklearn.tree import DecisionTreeClassifier\n",
    "from sklearn.datasets import load_iris\n",
    "from sklearn.metrics import accuracy_score\n",
    "\n",
    "# Carregando o dataset de Iris\n",
    "iris = load_iris()\n",
    "X, y = iris.data, iris.target\n",
    "\n",
    "# Conjunto de dados em treino e teste\n",
    "X_train, X_test, y_train, y_test = train_test_split(X, y, test_size=0.2, random_state=42)\n",
    "\n",
    "# Criando um classificador base (árvore de decisão)\n",
    "dt = DecisionTreeClassifier()\n",
    "\n",
    "# Criando o classificador AdaBoost\n",
    "adaboost_class = AdaBoostClassifier(estimator=dt, n_estimators=100, random_state=42, learning_rate=0.1)\n",
    "\n",
    "# Treinando o classificador AdaBoost\n",
    "adaboost_class.fit(X_train, y_train)\n",
    "\n",
    "# Fazendo previsões no conjunto de teste\n",
    "y_pred = adaboost_class.predict(X_test)\n",
    "\n",
    "# Precisão do classificador AdaBoost\n",
    "accuracy = accuracy_score(y_test, y_pred)\n",
    "print(f'Acurácia do AdaBoost: {accuracy:.2f}')\n"
   ]
  },
  {
   "cell_type": "code",
   "execution_count": 34,
   "metadata": {},
   "outputs": [
    {
     "name": "stdout",
     "output_type": "stream",
     "text": [
      "Melhores parametros:  {'estimator__max_depth': 2, 'learning_rate': 0.05, 'n_estimators': 10}\n"
     ]
    }
   ],
   "source": [
    "# Configurando o classificador\n",
    "adaboost_grid = AdaBoostClassifier(dt, random_state=42)\n",
    "\n",
    "# Paramentros para serem testados\n",
    "param_grid = {\n",
    "    'estimator__max_depth': [1, 2, 3, 4, 5],\n",
    "    'n_estimators':[10, 50, 100, 200, 300, 400, 500],\n",
    "    'learning_rate': [0.01, 0.05, 0.1, 0.2, 0.3]\n",
    "    }\n",
    "\n",
    "# GridSearch para encontrar os melhores parametros\n",
    "grid = GridSearchCV(adaboost_grid, param_grid, cv=5, scoring='accuracy')\n",
    "grid.fit(X_train, y_train)\n",
    "\n",
    "# print dos melhores valores encontrados\n",
    "print('Melhores parametros: ', grid.best_params_)\n"
   ]
  },
  {
   "cell_type": "code",
   "execution_count": 35,
   "metadata": {},
   "outputs": [
    {
     "name": "stdout",
     "output_type": "stream",
     "text": [
      "1.0\n"
     ]
    }
   ],
   "source": [
    "# Calculo das predições e print da acuracis com os melhores \n",
    "y_pred_grid = grid.predict(X_test)\n",
    "acuracia_grid = accuracy_score(y_test, y_pred_grid)\n",
    "print(acuracia_grid)"
   ]
  }
 ],
 "metadata": {
  "kernelspec": {
   "display_name": "base",
   "language": "python",
   "name": "python3"
  },
  "language_info": {
   "codemirror_mode": {
    "name": "ipython",
    "version": 3
   },
   "file_extension": ".py",
   "mimetype": "text/x-python",
   "name": "python",
   "nbconvert_exporter": "python",
   "pygments_lexer": "ipython3",
   "version": "3.11.5"
  }
 },
 "nbformat": 4,
 "nbformat_minor": 2
}
